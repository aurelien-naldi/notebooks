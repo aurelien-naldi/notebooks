{
 "cells": [
  {
   "cell_type": "markdown",
   "metadata": {},
   "source": [
    "Celine Hernandez"
   ]
  },
  {
   "cell_type": "markdown",
   "metadata": {},
   "source": [
    "<a name=\"toc\"></a>\n",
    "# Table of contents\n",
    "\n",
    "\n",
    "1. [Introduction](#presentation)\n",
    "1. [Set up](#setup)\n",
    "1. [Calcium module](#calcium)\n",
    "    1. [Presentation](#capres)\n",
    "    1. [Core components and extracted sub-model](#cacomp)\n",
    "    1. [Test cases](#catests)\n",
    "        1. [In naive cell](#caquiescent)\n",
    "        1. [When an activation signal is received](#caactive)\n",
    "    1. [Run all module tests](#carunall)\n",
    "1. [LCK module](#lck)\n",
    "    1. [Presentation](#lckpres)\n",
    "    1. [Core components and extracted sub-model](#lckcomp)\n",
    "    1. [Test cases](#lcktests)\n",
    "        1. [Resting state](#lckresting)\n",
    "        1. [Non-productive bindings](#lcknonprod)\n",
    "        1. [Productive bindings](#lckprod)\n",
    "    1. [Run all module tests](#lckrunall)\n",
    "1. [Cytoskeleton module](#skeleton)\n",
    "    1. [Presentation](#skpres)\n",
    "    1. [Core components and extracted sub-model](#skcomp)\n",
    "    1. [Test cases](#sktests)\n",
    "        1. [Absence of PIP2 and PIP3](#sknonbio)\n",
    "        1. [Resting state](#skresting)\n",
    "        1. [Activation](#skactive)\n",
    "    1. [Run all module tests](#skrunall)\n",
    "1. [Anergy/activation/differentiation module](#aneractdiff)\n",
    "    1. [Presentation](#aadpres)\n",
    "    1. [Core components and extracted sub-model](#aadcomp)\n",
    "    1. [Test cases](#aadtests)\n",
    "    1. [Run all module tests](#aadrunall)\n",
    "1. [Run all tests](#runall)"
   ]
  },
  {
   "cell_type": "markdown",
   "metadata": {},
   "source": [
    "<a name=\"presentation\"></a>\n",
    "# Introduction\n",
    "[(Back to top.)](#toc)\n",
    "\n",
    "As a model grows to tens and hundreds of nodes, it becomes difficult to monitor its behaviour. In order to be sure that known behaviours are effectively reproduced, a unit testing pipeline can be implemented. This framework allows to automate both local and global analyses of the model.\n",
    "\n",
    "Steps of analysis:\n",
    "- extract a module fof interest from the global model. Dependent components become inputs, thus not modifying the core logical functions.\n",
    "- define unit tests for the module\n",
    "- run unit tests\n",
    "- report success/failure"
   ]
  },
  {
   "cell_type": "markdown",
   "metadata": {},
   "source": [
    "<a name=\"setup\"></a>\n",
    "# Set up\n",
    "[(Back to top.)](#toc)"
   ]
  },
  {
   "cell_type": "markdown",
   "metadata": {},
   "source": [
    "Load the CoLoMoTo library."
   ]
  },
  {
   "cell_type": "code",
   "execution_count": 1,
   "metadata": {
    "scrolled": true
   },
   "outputs": [
    {
     "data": {
      "text/markdown": [
       "This notebook has been executed using the docker image `colomoto/colomoto-docker:2020-01-24`"
      ],
      "text/plain": [
       "<IPython.core.display.Markdown object>"
      ]
     },
     "metadata": {},
     "output_type": "display_data"
    }
   ],
   "source": [
    "from colomoto_jupyter import tabulate"
   ]
  },
  {
   "cell_type": "markdown",
   "metadata": {},
   "source": [
    "Load the Unit Test framework. "
   ]
  },
  {
   "cell_type": "code",
   "execution_count": 2,
   "metadata": {
    "scrolled": false
   },
   "outputs": [],
   "source": [
    "import unittest\n",
    "\n",
    "# Re-usable test runner\n",
    "runner = unittest.TextTestRunner(verbosity=2)\n",
    "# Container for all test suites\n",
    "all_suite = unittest.TestSuite()\n",
    "\n",
    "# Whether test cases should be run independently\n",
    "debug_test_cases = True\n",
    "# Whether individual test suites should be run independently\n",
    "debug_test_suites = True\n",
    "# Whether all tests should be run at the end\n",
    "run_all = True"
   ]
  },
  {
   "cell_type": "markdown",
   "metadata": {},
   "source": [
    "Load the model to be tested."
   ]
  },
  {
   "cell_type": "code",
   "execution_count": 3,
   "metadata": {
    "scrolled": false
   },
   "outputs": [
    {
     "data": {
      "text/html": [
       "<script type=\"text/javascript\" id=\"colomoto-setup-5744400\" class=\"to-be-removed\">\n",
       "        if (typeof Jupyter != 'undefined') {\n",
       "            \n",
       "function detect_import(cell, module) {\n",
       "    var code = cell.get_text();\n",
       "    code = code.replace(/\\\\\\n/g, \"\");\n",
       "    var lines = code.split(\"\\n\");\n",
       "    var r_simple = new RegExp(\"^(\"+module+\")$\");\n",
       "    var r_alias = new RegExp(\"^\"+module+\"\\\\s+as\\\\s+(\\\\w+)$\");\n",
       "    for (var i = 0; i < lines.length; ++i) {\n",
       "        if (/^import\\s/.test(lines[i])) {\n",
       "            code = lines[i].substr(7);\n",
       "            var parts = code.split(\",\")\n",
       "            for (var j = 0; j < parts.length; ++j) {\n",
       "                code = parts[j].trim();\n",
       "                var m = code.match(r_simple);\n",
       "                if (!m) {\n",
       "                    m = code.match(r_alias);\n",
       "                }\n",
       "                if (m) {\n",
       "                    return m[1];\n",
       "                }\n",
       "            }\n",
       "        }\n",
       "    }\n",
       "    return module;\n",
       "}\n",
       "\n",
       "function colomoto_replace_call(cell, orig, dest, args, comment=false) {\n",
       "    var call_regexp = new RegExp(\"\\\\.\"+orig.replace(\".\",\"\\\\.\")+\"\\\\(\");\n",
       "    var call_replacer = new RegExp(\"\\\\.\"+orig.replace(\".\",\"\\\\.\")\n",
       "                    + \"\\\\(\\\\s*([^\\\\)]*)?\\\\)\");\n",
       "    var code = cell.get_text();\n",
       "    var lines = code.split(\"\\n\");\n",
       "    if (args) {\n",
       "        var strargs = \", \"+args.join(\", \");\n",
       "    } else {\n",
       "        var strargs = \"\";\n",
       "    }\n",
       "    for (var i = 0; i < lines.length; ++i) {\n",
       "        if (call_regexp.test(lines[i])) {\n",
       "            var code = \"\"\n",
       "            if (comment) {\n",
       "                code += \"#\"+lines[i]+\"\\n\";\n",
       "            }\n",
       "            code += lines[i].replace(call_replacer, \".\"+dest+\"($1\"+strargs+\")\")\n",
       "            lines[i] = code;\n",
       "        }\n",
       "    }\n",
       "    cell.set_text(code)\n",
       "}\n",
       "\n",
       "function colomoto_upload(Jupyter, ssid, input, py_callback_name, orig, dest) {\n",
       "\n",
       "    function callback(out_data) {\n",
       "        var cell_element = $(\"#\"+ssid).parents('.cell');\n",
       "        var cell_idx = Jupyter.notebook.get_cell_elements().index(cell_element);\n",
       "        var cell = Jupyter.notebook.get_cell(cell_idx);\n",
       "\n",
       "        var filename = out_data.content.text;\n",
       "\n",
       "        var code = cell.get_text();\n",
       "        code = code.replace(new RegExp(\"\\\\b\" + orig.replace('.', '\\\\.')\n",
       "                    + \"\\\\(\\\\s*((\\\\w+)=[^\\\\)]*)?\\\\)\"),\n",
       "                dest+\"(\\\"\"+filename+\"\\\",$1)\");\n",
       "        code = code.replace('\",)', '\")')\n",
       "        cell.set_text(code);\n",
       "\n",
       "        Jupyter.notebook.select(cell_idx);\n",
       "        Jupyter.notebook.execute_cell_and_select_below();\n",
       "    }\n",
       "\n",
       "    if (! (window.File && window.FileReader && window.FileList && window.Blob)) {\n",
       "        alert(\"Interactive file upload is not supported by your browser.\");\n",
       "        return;\n",
       "    }\n",
       "\n",
       "    input.disabled = true;\n",
       "    input.style.cursor = \"wait\";\n",
       "    input.parentElement.style.cursor = \"wait\";\n",
       "\n",
       "    var f = input.files[0];\n",
       "    var reader = new FileReader();\n",
       "    reader.onload = (function(f) {\n",
       "        return function (e) {\n",
       "            var obj = {\n",
       "                content: e.target.result,\n",
       "                name: f.name\n",
       "            };\n",
       "\n",
       "            //var pycb = py_callback_name+\"(\"+JSON.stringify(obj)+\")\"\n",
       "            // hack/workaround:\n",
       "            // it seems that Jupyter does not like very long lines\n",
       "            // so we split the data in chunks\n",
       "            var chunk_length = 100;\n",
       "            var pycb = \"__colomoto_upload_name = \" + JSON.stringify(obj.name) + \"\\n\";\n",
       "            pycb += \"__colomoto_upload_content = \\\\\\n\";\n",
       "            for (var i = 0; i < obj.content.length; i += chunk_length) {\n",
       "                pycb += \"\\\"\" + obj.content.substr(i, chunk_length)+\"\\\"\\\\\\n\"\n",
       "            }\n",
       "            pycb += \"\\n\"\n",
       "            pycb += py_callback_name+\"({'name':__colomoto_upload_name, 'content': __colomoto_upload_content})\\n\";\n",
       "            pycb += \"del __colomoto_upload_name, __colomoto_upload_content\"\n",
       "\n",
       "            IPython.notebook.kernel.execute(pycb, {iopub: {output: callback}});\n",
       "        };\n",
       "    })(f);\n",
       "    reader.readAsDataURL(f);\n",
       "}\n",
       "\n",
       "function resolve_function(tool_api, funcname) {\n",
       "    if (tool_api.hasOwnProperty(funcname)) {\n",
       "        return tool_api[funcname];\n",
       "    } else {\n",
       "        return window[funcname];\n",
       "    }\n",
       "}\n",
       "\n",
       "function colomoto_extension(Jupyter, ssid, name, menu, toolbar, tool_api) {\n",
       "\n",
       "    function insert_snippet_code(snippet) {\n",
       "        var cell = Jupyter.notebook.get_selected_cell();\n",
       "        Jupyter.notebook.edit_mode();\n",
       "        cell.code_mirror.replaceSelection(snippet, 'around');\n",
       "        //cell.focus_editor();\n",
       "    }\n",
       "\n",
       "    /**\n",
       "        from https://github.com/moble/jupyter_boilerplate/blob/master/main.js\n",
       "    */\n",
       "    function callback_insert_snippet (evt) {\n",
       "        // this (or event.currentTarget, see below) always refers to the DOM\n",
       "        // element the listener was attached to - see\n",
       "        // http://stackoverflow.com/questions/12077859\n",
       "        insert_snippet_code($(evt.currentTarget).data('snippet-code'));\n",
       "    }\n",
       "    function build_menu_element (menu_item_spec, direction) {\n",
       "        // Create the menu item html element\n",
       "        var element = $('<li/>');\n",
       "\n",
       "        if (typeof menu_item_spec == 'string') {\n",
       "            if (menu_item_spec != '---') {\n",
       "                return element.html(menu_item_spec)\n",
       "                        .addClass('ui-state-disabled')\n",
       "                        .attr({\"style\": \"padding:2px .4em\"})\n",
       "                       ;\n",
       "            }\n",
       "            return element.addClass('divider');\n",
       "        }\n",
       "\n",
       "        var a = $('<a/>')\n",
       "            .attr('href', '#')\n",
       "            .html(menu_item_spec.name)\n",
       "            .appendTo(element);\n",
       "        if (menu_item_spec.hasOwnProperty('snippet')) {\n",
       "            var snippet = menu_item_spec.snippet;\n",
       "            if (typeof snippet == 'string' || snippet instanceof String) {\n",
       "                snippet = [snippet];\n",
       "            }\n",
       "            a.attr({\n",
       "                'title' : \"\", // Do not remove this, even though it's empty!\n",
       "                'data-snippet-code' : snippet.join('\\n'),\n",
       "            })\n",
       "            .on('click', callback_insert_snippet)\n",
       "            .addClass('snippet');\n",
       "        }\n",
       "        else if (menu_item_spec.hasOwnProperty('internal-link')) {\n",
       "            a.attr('href', menu_item_spec['internal-link']);\n",
       "        }\n",
       "        else if (menu_item_spec.hasOwnProperty('external-link')) {\n",
       "            a.empty();\n",
       "            a.attr('href', menu_item_spec['external-link']);\n",
       "            a.attr({\n",
       "                'target' : '_blank',\n",
       "                'title' : 'Opens in a new window',\n",
       "            });\n",
       "            $('<i class=\"fa fa-external-link menu-icon pull-right\"/>').appendTo(a);\n",
       "            $('<span/>').html(menu_item_spec.name).appendTo(a);\n",
       "        }\n",
       "\n",
       "        if (menu_item_spec.hasOwnProperty('sub-menu')) {\n",
       "            element\n",
       "                .addClass('dropdown-submenu')\n",
       "                .toggleClass('dropdown-submenu-left', direction === 'left');\n",
       "            var sub_element = $('<ul class=\"dropdown-menu\"/>')\n",
       "                .toggleClass('dropdown-menu-compact', menu_item_spec.overlay === true) // For space-saving menus\n",
       "                .appendTo(element);\n",
       "\n",
       "            var new_direction = (menu_item_spec['sub-menu-direction'] === 'left') ? 'left' : 'right';\n",
       "            for (var j=0; j<menu_item_spec['sub-menu'].length; ++j) {\n",
       "                var sub_menu_item_spec = build_menu_element(menu_item_spec['sub-menu'][j], new_direction);\n",
       "                if(sub_menu_item_spec !== null) {\n",
       "                    sub_menu_item_spec.appendTo(sub_element);\n",
       "                }\n",
       "            }\n",
       "        }\n",
       "\n",
       "        return element;\n",
       "    }\n",
       "\n",
       "    function menu_setup (menu_item_specs, sibling, insert_before_sibling) {\n",
       "        for (var i=0; i<menu_item_specs.length; ++i) {\n",
       "            var menu_item_spec;\n",
       "            if (insert_before_sibling) {\n",
       "                menu_item_spec = menu_item_specs[i];\n",
       "            } else {\n",
       "                menu_item_spec = menu_item_specs[menu_item_specs.length-1-i];\n",
       "            }\n",
       "            var direction = (menu_item_spec['menu-direction'] == 'left') ? 'left' : 'right';\n",
       "            var menu_element = build_menu_element(menu_item_spec, direction);\n",
       "            // We need special properties if this item is in the navbar\n",
       "            if ($(sibling).parent().is('ul.nav.navbar-nav')) {\n",
       "                menu_element\n",
       "                    .addClass('dropdown')\n",
       "                    .removeClass('dropdown-submenu dropdown-submenu-left');\n",
       "                menu_element.children('a')\n",
       "                    .addClass('dropdown-toggle')\n",
       "                    .attr({\n",
       "                        'id': name+'_menu',\n",
       "                        'data-toggle' : 'dropdown',\n",
       "                        'aria-expanded' : 'false'\n",
       "                    });\n",
       "            }\n",
       "\n",
       "            // Insert the menu element into DOM\n",
       "            menu_element[insert_before_sibling ? 'insertBefore': 'insertAfter'](sibling);\n",
       "        }\n",
       "    }\n",
       "    /** end from */\n",
       "\n",
       "\n",
       "    function self_cleanup() {\n",
       "        var cell_element = $(\"script[class='to-be-removed']\").parents('.cell');\n",
       "        var cell_idx = Jupyter.notebook.get_cell_elements().index(cell_element);\n",
       "        var cell = Jupyter.notebook.get_cell(cell_idx);\n",
       "        var to_remove = -1;\n",
       "        for (var i = 0; i < cell.output_area.outputs.length; ++i) {\n",
       "            var oa = cell.output_area.outputs[i];\n",
       "            if (oa.output_type == \"display_data\"\n",
       "                && typeof oa.data[\"text/html\"] != 'undefined'\n",
       "                && oa.data[\"text/html\"].indexOf(' class=\"to-be-removed\"') >= 0) {\n",
       "                to_remove = i;\n",
       "                break;\n",
       "            }\n",
       "        }\n",
       "        if (to_remove == -1) {\n",
       "            console.log(\"cannot find toberemoved\");\n",
       "        } else {\n",
       "            cell.output_area.outputs.splice(to_remove, 1);\n",
       "        }\n",
       "    }\n",
       "\n",
       "    function toolbar_setup(actions) {\n",
       "        var buttons = [];\n",
       "        for (var i = 0; i < actions.length; ++i) {\n",
       "            var setup = actions[i].setup;\n",
       "            if (typeof setup.handler == 'string') {\n",
       "                setup.handler = resolve_function(tool_api, setup.handler);\n",
       "            }\n",
       "            buttons.push(Jupyter.actions.register(actions[i].setup,\n",
       "                actions[i].name, name));\n",
       "        }\n",
       "        $(\"#\"+name+\"-toolbar\").remove();\n",
       "        Jupyter.toolbar.add_buttons_group(buttons, name+\"-toolbar\");\n",
       "    }\n",
       "\n",
       "    function replace_menu_snippets(menu_spec, orig, dest) {\n",
       "        if (menu_spec.hasOwnProperty(\"snippet\")) {\n",
       "            var snippet = menu_spec.snippet;\n",
       "            if (typeof snippet == \"string\" || snippet instanceof String) {\n",
       "                menu_spec[\"snippet\"] = snippet.replace(orig, dest);\n",
       "            } else {\n",
       "                for (var i = 0; i < snippet.length; ++i) {\n",
       "                    menu_spec[\"snippet\"][i] = snippet[i].replace(orig, dest);\n",
       "                }\n",
       "            }\n",
       "        }\n",
       "        if (menu_spec.hasOwnProperty(\"sub-menu\")) {\n",
       "            for (var i = 0; i < menu_spec[\"sub-menu\"].length; ++i) {\n",
       "                replace_menu_snippets(menu_spec[\"sub-menu\"][i], orig, dest);\n",
       "            }\n",
       "        }\n",
       "    }\n",
       "\n",
       "    function load_ipython_extension() {\n",
       "\n",
       "        var mycellelt = $(\"#\"+ssid).parents('.cell');\n",
       "        var myidx = Jupyter.notebook.get_cell_elements().index(mycellelt);\n",
       "        var import_cell = Jupyter.notebook.get_cell(myidx);\n",
       "\n",
       "        var alias = detect_import(import_cell, name);\n",
       "        tool_api.module_alias = alias;\n",
       "        if (alias && alias != name) {\n",
       "            var orig = new RegExp(\"\\\\b\"+name+\"\\\\b\", \"g\");\n",
       "            replace_menu_snippets(menu, orig, alias);\n",
       "        }\n",
       "\n",
       "        if (toolbar) {\n",
       "            toolbar_setup(toolbar);\n",
       "        }\n",
       "\n",
       "        $(\"#\"+name+\"_menu\").parent().remove();\n",
       "        if (menu) {\n",
       "            menu_setup([menu], $(\"#help_menu\").parent(), true);\n",
       "        }\n",
       "\n",
       "        if (tool_api.hasOwnProperty(\"post_install_callback\")) {\n",
       "            tool_api.post_install_callback();\n",
       "        }\n",
       "\n",
       "        setTimeout(self_cleanup, 5000);\n",
       "    };\n",
       "\n",
       "    load_ipython_extension();\n",
       "}\n",
       "\n",
       "function resolve_toolbar_handlers(tool_api, toolbar_spec) {\n",
       "    for (var i = 0; i < toolbar_spec.length; ++i) {\n",
       "        func = resolve_function(tool_api, toolbar_spec[i][\"setup\"][\"handler\"]);\n",
       "        toolbar_spec[i][\"setup\"][\"handler\"] = func;\n",
       "    }\n",
       "    return toolbar_spec\n",
       "}\n",
       "\n",
       "\n",
       "    var biolqm_jsapi = { action_upload_model: function() {\n",
       "        var cell = Jupyter.notebook.get_selected_cell();\n",
       "        cell.set_text('lqm = '+biolqm_jsapi.module_alias+'.upload()');\n",
       "        cell.focus_editor();\n",
       "    } };\n",
       "    colomoto_extension(Jupyter, \"colomoto-setup-5744400\", \"biolqm\", {\"name\": \"bioLQM\", \"sub-menu\": [{\"name\": \"Upload model\", \"snippet\": [\"lqm = biolqm.upload()\"]}, {\"name\": \"Load model\", \"snippet\": [\"lqm = biolqm.load(\\\"model.sbml\\\")\"]}, \"---\", {\"name\": \"Export to file\", \"sub-menu\": [{\"name\": \"SBML-qual v1.0 (.sbml)\", \"snippet\": [\"biolqm.save(lqm, \\\"mymodel.sbml\\\", \\\"sbml\\\")\"]}, \"Functions formats\", {\"name\": \"BoolNet (.bnet)\", \"snippet\": [\"biolqm.save(lqm, \\\"mymodel.bnet\\\", \\\"bnet\\\")\"]}, {\"name\": \"BooleanNet (.booleannet)\", \"snippet\": [\"biolqm.save(lqm, \\\"mymodel.booleannet\\\", \\\"booleannet\\\")\"]}, {\"name\": \"BoolSim (.boolsim)\", \"snippet\": [\"biolqm.save(lqm, \\\"mymodel.boolsim\\\", \\\"boolsim\\\")\"]}, {\"name\": \"Raw Boolean functions (.boolfunctions)\", \"snippet\": [\"biolqm.save(lqm, \\\"mymodel.boolfunctions\\\", \\\"boolfunctions\\\")\"]}, {\"name\": \"Truth table (.tt)\", \"snippet\": [\"biolqm.save(lqm, \\\"mymodel.tt\\\", \\\"tt\\\")\"]}, \"Petri net formats\", {\"name\": \"APNN (.apnn)\", \"snippet\": [\"biolqm.save(lqm, \\\"mymodel.apnn\\\", \\\"apnn\\\")\"]}, {\"name\": \"INA (.ina)\", \"snippet\": [\"biolqm.save(lqm, \\\"mymodel.ina\\\", \\\"ina\\\")\"]}, {\"name\": \"PNML (.pnml)\", \"snippet\": [\"biolqm.save(lqm, \\\"mymodel.pnml\\\", \\\"pnml\\\")\"]}, \"Dedicated formats\", {\"name\": \"GINML (.ginml)\", \"snippet\": [\"biolqm.save(lqm, \\\"mymodel.ginml\\\", \\\"ginml\\\")\"]}, {\"name\": \"GNA non-xml (.gna)\", \"snippet\": [\"biolqm.save(lqm, \\\"mymodel.gna\\\", \\\"gna\\\")\"]}, {\"name\": \"MaBoSS (.bnd)\", \"snippet\": [\"biolqm.save(lqm, \\\"mymodel.bnd\\\", \\\"bnd\\\")\"]}, {\"name\": \"Pint (.an)\", \"snippet\": [\"biolqm.save(lqm, \\\"mymodel.an\\\", \\\"an\\\")\"]}]}, {\"name\": \"Convert to tool\", \"sub-menu\": [{\"name\": \"GINsim\", \"snippet\": [\"lrg = biolqm.to_ginsim(lqm)\"]}, {\"name\": \"MaBoSS\", \"snippet\": [\"masim = biolqm.to_maboss(lqm)\"]}, {\"name\": \"Pint\", \"snippet\": [\"an = biolqm.to_pint(lqm)\"]}]}, \"---\", {\"name\": \"Compute fixpoints\", \"snippet\": [\"fps = biolqm.fixpoints(lqm)\"]}, {\"name\": \"Compute trap spaces\", \"snippet\": [\"traps = biolqm.trapspace(lqm)\"]}, \"---\", {\"name\": \"Model modifications\", \"sub-menu\": [{\"name\": \"Perturbation\", \"snippet\": [\"lqm_mod = biolqm.perturbation(lqm, \\\"node%0\\\")\"]}, {\"name\": \"Booleanization\", \"snippet\": [\"lqm_bool = biolqm.booleanize(lqm)\"]}, {\"name\": \"Reduction\", \"snippet\": [\"lqm_red = biolqm.reduce(lqm, \\\"fixed,output,duplicate\\\")\"]}, {\"name\": \"Reversal\", \"snippet\": [\"lqm_rev = biolqm.reverse(lqm)\"]}, {\"name\": \"Sanitize\", \"snippet\": [\"lqm_san = biolqm.sanitize(lqm)\"]}]}, \"---\", {\"name\": \"Documentation\", \"external-link\": \"http://ginsim.naldi.info/biolqm/site/doc/index.html\"}]}, [{\"name\": \"upload\", \"setup\": {\"icon\": \"fa-upload\", \"help\": \"Upload model\", \"handler\": \"action_upload_model\"}}], biolqm_jsapi);\n",
       "     }</script><style type=\"text/css\">\n",
       "    #biolqm_menu {\n",
       "        color: #00007f;\n",
       "        background-color: white;\n",
       "    }\n",
       "    \n",
       "    div#biolqm-toolbar:before {\n",
       "        content: \"bioLQM\";\n",
       "        float: left;\n",
       "        margin-left: 1em;\n",
       "        margin-right: 1em;\n",
       "        margin-top: 0.2em;\n",
       "    }\n",
       "    div#biolqm-toolbar,\n",
       "    div#biolqm-toolbar button {\n",
       "        color: #00007f;\n",
       "    }\n",
       "    </style>"
      ],
      "text/plain": [
       "<IPython.core.display.HTML object>"
      ]
     },
     "metadata": {},
     "output_type": "display_data"
    },
    {
     "data": {
      "text/html": [
       "<script type=\"text/javascript\" id=\"colomoto-setup-7694938\" class=\"to-be-removed\">\n",
       "        if (typeof Jupyter != 'undefined') {\n",
       "            \n",
       "    var ginsim_jsapi = { action_upload_model: function() {\n",
       "        var cell = Jupyter.notebook.get_selected_cell();\n",
       "        cell.set_text('lrg = '+ginsim_jsapi.module_alias+'.upload()');\n",
       "        cell.focus_editor();\n",
       "    } };\n",
       "    colomoto_extension(Jupyter, \"colomoto-setup-7694938\", \"ginsim\", {\"name\": \"GINsim\", \"sub-menu\": [{\"name\": \"Upload model\", \"snippet\": [\"lrg = ginsim.upload()\"]}, {\"name\": \"Load model\", \"snippet\": [\"lrg = ginsim.load(\\\"model.zginml\\\")\"]}, \"---\", {\"name\": \"Export to file\", \"sub-menu\": [{\"name\": \"MaBoSS (.bnd, .cfg)\", \"snippet\": [\"ginsim.service(\\\"maboss\\\").export(lrg, \\\"mymodel.bnd\\\")\"]}]}, {\"name\": \"Convert to tool\", \"sub-menu\": [{\"name\": \"bioLQM\", \"snippet\": [\"lqm = ginsim.to_biolqm(lrg)\"]}, {\"name\": \"MaBoSS\", \"snippet\": [\"masim = ginsim.to_maboss(lrg)\"]}, {\"name\": \"NuSMV\", \"snippet\": [\"smv = ginsim.to_nusmv(lrg)\"]}, {\"name\": \"Pint\", \"snippet\": [\"an = ginsim.to_pint(lrg)\"]}]}, \"---\", {\"name\": \" Display regulatory graph\", \"snippet\": [\"ginsim.show(lrg)\"]}]}, [{\"name\": \"upload\", \"setup\": {\"icon\": \"fa-upload\", \"help\": \"Upload model\", \"handler\": \"action_upload_model\"}}], ginsim_jsapi);\n",
       "     }</script><style type=\"text/css\">\n",
       "    #ginsim_menu {\n",
       "        color: blue;\n",
       "        background-color: white;\n",
       "    }\n",
       "    \n",
       "    div#ginsim-toolbar:before {\n",
       "        content: \"GINsim\";\n",
       "        float: left;\n",
       "        margin-left: 1em;\n",
       "        margin-right: 1em;\n",
       "        margin-top: 0.2em;\n",
       "    }\n",
       "    div#ginsim-toolbar,\n",
       "    div#ginsim-toolbar button {\n",
       "        color: blue;\n",
       "    }\n",
       "    </style>"
      ],
      "text/plain": [
       "<IPython.core.display.HTML object>"
      ]
     },
     "metadata": {},
     "output_type": "display_data"
    }
   ],
   "source": [
    "# Load model to be tested\n",
    "import biolqm\n",
    "lqm = biolqm.load(\"Hernandez_TcellCheckPoints_13april2020.zginml\")"
   ]
  },
  {
   "cell_type": "markdown",
   "metadata": {},
   "source": [
    "Accessory functions"
   ]
  },
  {
   "cell_type": "code",
   "execution_count": 4,
   "metadata": {},
   "outputs": [],
   "source": [
    "# Transforms a dictionary into a %-joined pattern\n",
    "#  {A:0, D:1} => \"A%0 D%1\"\n",
    "def percent_pattern(dict_vals):\n",
    "    return \" \".join(      [ \"%\".join((key, str(dict_vals.get(key)))) for key in dict_vals.keys() ]\n",
    "    )\n",
    "\n",
    "# Transforms a dictionary into a dash-like pattern used for space restrictions.\n",
    "# If a model has 4 components A, B, C, D in this order,\n",
    "#  {A:0, D:1} => \"0--1\"\n",
    "def dash_pattern(model, dict_vals):\n",
    "    specific_comps = dict_vals.keys()\n",
    "    str_pattern = \"\"\n",
    "    for comp in model.getComponents():\n",
    "        if comp.toString() in specific_comps:\n",
    "            str_pattern += str(dict_vals.get(comp.toString()))\n",
    "        else :\n",
    "            str_pattern += \"-\"\n",
    "    return(str_pattern)\n"
   ]
  },
  {
   "cell_type": "markdown",
   "metadata": {},
   "source": [
    "<a name=\"calcium\"></a>\n",
    "# Calcium module\n",
    "[(Back to top.)](#toc)\n",
    "\n",
    "<a name=\"capres\"></a>\n",
    "## Presentation\n",
    "[(Back to top.)](#toc)\n",
    "\n",
    "Following TCR engagement, cytoplasmic Calcium ions is elevated whithin seconds. This paragraph aims at testing the behaviour of the model around this event, and is centered on the Endoplasmic Reticulum (ER), Mitochondria, and the cytoplasmic membrane.\n",
    "\n",
    "For a general review on Calcium flux during antigen-induced T cell activation, see [PMID:23860253](https://www.ncbi.nlm.nih.gov/pubmed/23860253). For the specific impact of Mitochondria on sustained signalling, refer to [PMID:24117814](https://www.ncbi.nlm.nih.gov/pubmed/24117814).\n",
    "\n",
    "Summary and expected behaviours of the model:\n",
    "\n",
    "In quiescent cells (absence of IP3):\n",
    "- there is no fixed point with Calcium_cyt:1 or Calcium_cyt:2 without also Calcium_ER:1. If present, Calcium ions should always flow back to the ER.\n",
    "- SERCA is not active if there is no calcium depletion in the ER. In any fixed point, if Calcium_ER:1 then SERCA should be 0.\n",
    "\n",
    "Following TCR engagement (and increase in IP3 levels):\n",
    "- if ORAI1:0, Calcium_cyt value depend on IP3R1, as SERCA effect is not considered strong enough to counteract release from IP3R1. Be aware that eventually ORAI1 will be activated as IP3 inhibits Calcium_ER.\n",
    "- if ORAI1:1, Calcium_cyt will reach level 2 and never decrease.\n",
    "\n",
    "PMCA with no activation of Mitochondria (translocation):\n",
    "Here, in absence of IP3 signal, activation of PMCA as soon as Calcium_cyt reaches level 2 gives transient oscillations, as ORAI1 increases Calcium_cyt to 2 and PMCA decreases it back to 1.\n",
    "If SERCA gets activated, Calcium_ER can reach level 1, de-activating OARI1. Calcium_cyt:2 is not stable any more.\n",
    "With IP3 signal, there is a cyclic attractor as Calcium_ER is never refilled. Calcium_cyt oscillates between values 1 and 2 due to the combined effects of ORAI1 and PMCA. \n",
    "\n",
    "Mitochondria are translocated where calcium cytoplasmic increases. There, they act as buffers, absorbing Calcium and releasing it far from ORAI1 and PMCA, thus counter-acting ORAI1 inhibition and PMCA activation caused by a high level of Calcium_cyt.\n",
    "\n",
    "Note that there is a positive feedback loop on Calcium_ER and Calcium_cyt to avoid any unwanted disappearance of calcium outside of fluxes through the channels.\n"
   ]
  },
  {
   "cell_type": "markdown",
   "metadata": {},
   "source": [
    "<a name=\"cacomp\"></a>\n",
    "## Core components and extracted sub-model\n",
    "[(Back to top.)](#toc)"
   ]
  },
  {
   "cell_type": "code",
   "execution_count": 5,
   "metadata": {
    "scrolled": false
   },
   "outputs": [],
   "source": [
    "# Test suite for all calcium-related tests.\n",
    "calcium_suite = unittest.TestSuite()\n",
    "\n",
    "class CalciumModuleTestCase(unittest.TestCase):\n",
    "    \"\"\"Sub-model to be tested.\"\"\"\n",
    "    model = biolqm.submodel(lqm, \"Calcium_cyt Calcium_ER IP3R1 Mitochondria ORAI1 PMCA SERCA STIM1\")\n"
   ]
  },
  {
   "cell_type": "code",
   "execution_count": 6,
   "metadata": {
    "scrolled": false
   },
   "outputs": [
    {
     "data": {
      "text/plain": [
       "\"['f_CRACR2A', 'f_ROS', 'ZAP70', 'IP3', 'WAVE_cplx', 'IP3R1', 'Calcium_ER', 'Calcium_cyt', 'SERCA', 'STIM1', 'ORAI1', 'PMCA', 'Mitochondria']\""
      ]
     },
     "execution_count": 6,
     "metadata": {},
     "output_type": "execute_result"
    }
   ],
   "source": [
    "str([component.toString() for component in CalciumModuleTestCase.model.getComponents()])"
   ]
  },
  {
   "cell_type": "code",
   "execution_count": 7,
   "metadata": {
    "scrolled": true
   },
   "outputs": [
    {
     "data": {
      "text/plain": [
       "Calcium_ER <- (!IP3R1&!Calcium_ER&SERCA)|(!IP3R1&Calcium_ER)\n",
       "Calcium_cyt:1 <- (!IP3R1&Calcium_cyt:1&!Calcium_cyt:2&!SERCA&!ORAI1&!PMCA)|(IP3R1&!Calcium_cyt:2&!SERCA&!ORAI1&!PMCA)|(IP3R1&!Calcium_cyt:2&SERCA&!ORAI1&!PMCA)\n",
       "Calcium_cyt:2 <- (!IP3R1&!Calcium_cyt:1&!SERCA&ORAI1)|(!IP3R1&!Calcium_cyt:1&SERCA&ORAI1&!PMCA)|(!IP3R1&Calcium_cyt:1&!Calcium_cyt:2&!SERCA&ORAI1)|(!IP3R1&Calcium_cyt:1&!Calcium_cyt:2&SERCA&ORAI1&!PMCA)|(!IP3R1&Calcium_cyt:2&!SERCA&!ORAI1&!PMCA)|(!IP3R1&Calcium_cyt:2&!SERCA&ORAI1)|(!IP3R1&Calcium_cyt:2&SERCA&!PMCA)|(IP3R1&!Calcium_cyt:2&!SERCA&ORAI1)|(IP3R1&!Calcium_cyt:2&SERCA&ORAI1&!PMCA)|(IP3R1&Calcium_cyt:2&!SERCA&!ORAI1&!PMCA)|(IP3R1&Calcium_cyt:2&!SERCA&ORAI1)|(IP3R1&Calcium_cyt:2&SERCA&!PMCA)\n",
       "IP3 <- IP3\n",
       "IP3R1 <- IP3\n",
       "Mitochondria <- ZAP70&Calcium_cyt:1\n",
       "ORAI1 <- (f_CRACR2A&!f_ROS&WAVE_cplx&!Calcium_cyt:2&STIM1)|(f_CRACR2A&!f_ROS&WAVE_cplx&Calcium_cyt:2&STIM1&Mitochondria)\n",
       "PMCA <- Calcium_cyt:1&!Mitochondria\n",
       "SERCA <- !Calcium_ER&Calcium_cyt:1\n",
       "STIM1 <- !Calcium_ER\n",
       "WAVE_cplx <- WAVE_cplx\n",
       "ZAP70 <- ZAP70\n",
       "f_CRACR2A <- 1\n",
       "f_ROS <- 0"
      ]
     },
     "execution_count": 7,
     "metadata": {},
     "output_type": "execute_result"
    }
   ],
   "source": [
    "biolqm.to_minibn(CalciumModuleTestCase.model)"
   ]
  },
  {
   "cell_type": "markdown",
   "metadata": {},
   "source": [
    "<a name=\"catests\"></a>\n",
    "## Test cases\n",
    "[(Back to top.)](#toc)"
   ]
  },
  {
   "cell_type": "markdown",
   "metadata": {},
   "source": [
    "<a name=\"caquiescent\"></a>\n",
    "### In naive cell (no IP3 signal)\n",
    "[(Back to top.)](#toc)\n",
    "\n",
    "Typically in naive cells, the ER is full of Calcium ions. As long as there is no IP3 signal that pattern should be stable (whatever the other input values) providing that there was Calcium at some point in any of the compartments (ER or cytoplasm).\n",
    "\n",
    "- [x] All trap spaces correspond to either an absence of Calcium everywhere or presence of Calcium in the ER.\n",
    "- [x] When there is no Calcium in the ER it means that there is no Calcium anywhere (biologically incorrect trap spaces).\n",
    "- [x] There exist at least one case where the ER is filled with Calcium.\n",
    "- [x] When the ER is filled, SERCA is inactive.\n",
    "- [x] When there is no input signal and the ER is filled, Calcium never reaches a sufficient level to activate downstream signalling."
   ]
  },
  {
   "cell_type": "code",
   "execution_count": 8,
   "metadata": {
    "scrolled": false
   },
   "outputs": [
    {
     "name": "stderr",
     "output_type": "stream",
     "text": [
      "test_calc_tp_rest_ER1_SERCA0 (__main__.TestCalciumQuiescent) ... ok\n",
      "test_calc_tp_rest_ER1_cyt1 (__main__.TestCalciumQuiescent) ... ok\n",
      "test_calc_tp_rest_ER1_present (__main__.TestCalciumQuiescent) ... ok\n",
      "test_calc_tp_rest_nbtp (__main__.TestCalciumQuiescent) ... ok\n",
      "test_calc_tp_rest_noCalcium (__main__.TestCalciumQuiescent) ... ok\n",
      "\n",
      "----------------------------------------------------------------------\n",
      "Ran 5 tests in 0.342s\n",
      "\n",
      "OK\n"
     ]
    }
   ],
   "source": [
    "class TestCalciumQuiescent(CalciumModuleTestCase):\n",
    "    \n",
    "    # Note: changing core_vals was restricting core components values, thus setting up unwanted perturbations. \n",
    "    # To implement this test, I need to find a set up where I can specify that there is calcium either \n",
    "    # in the ER or the cytoplasm in the initial state.\n",
    "    input_vals = {}\n",
    "    core_vals = {}\n",
    "    pattern = None\n",
    "    resting_tp = None\n",
    "    \n",
    "    @classmethod\n",
    "    def setUpClass(cls):\n",
    "        cls.pattern = dash_pattern(cls.model, {**cls.input_vals, **cls.core_vals})\n",
    "        cls.resting_tp = [tp for tp in biolqm.trapspaces(cls.model) if tp[\"IP3\"]==0]\n",
    "    \n",
    "    def addcontext(self, message, observed):\n",
    "        return(\" \".join((\"Pattern:\", self.pattern, \"\\n\",\n",
    "                       \"Context:\", str(self.input_vals), str(self.core_vals), \"\\n\",\n",
    "                       \"Tested:\", message, \"\\n\", \n",
    "                       \"Observed:\", str(observed), \".\\n\")))\n",
    "        \n",
    "    # Test if all trap spaces correspond to either an absence of Calcium everywhere or presence of Calcium in the ER.\n",
    "    def test_calc_tp_rest_nbtp(self):\n",
    "        no_calcium = len([tp for tp in self.resting_tp if tp[\"Calcium_ER\"]==0 and tp[\"Calcium_cyt_b1\"]==0 and tp[\"Calcium_cyt_b1\"]==0])\n",
    "        calcium_in_er = len([tp for tp in self.resting_tp if tp[\"Calcium_ER\"]==1])\n",
    "        observed = no_calcium+calcium_in_er\n",
    "        expected = len(self.resting_tp)\n",
    "        self.assertEqual(observed, expected, \n",
    "                         self.addcontext(\"\".join((\"If {IP3:0} then all\", str(expected), \"TS correspond to no Ca or Ca in ER.\")), \n",
    "                                 observed))\n",
    "    \n",
    "    # Test that when there is no Calcium in the ER it means that there is no Calcium anywhere\n",
    "    # This is a biologically incorrect case (see class documentation).\n",
    "    def test_calc_tp_rest_noCalcium(self):\n",
    "        no_calcium_in_ER = len([tp for tp in self.resting_tp if tp[\"Calcium_ER\"]==0])\n",
    "        no_calcium_anywhere = len([tp for tp in self.resting_tp if tp[\"Calcium_ER\"]==0 and tp[\"Calcium_cyt_b1\"]==0 and tp[\"Calcium_cyt_b1\"]==0])\n",
    "        observed = no_calcium_in_ER\n",
    "        expected = no_calcium_anywhere\n",
    "        self.assertEqual(observed, expected, \n",
    "                         self.addcontext(\"\".join((\"If {IP3:0,Calcium_ER:0} then Calcium_cyt:0, nb cases: \", str(expected))), \n",
    "                                 observed))\n",
    "\n",
    "    # Test that there exist at least one case where the ER is filled with Calcium.\n",
    "    def test_calc_tp_rest_ER1_present(self):\n",
    "        calcium_in_er = len([tp for tp in self.resting_tp if tp[\"Calcium_ER\"]==1])\n",
    "        observed = calcium_in_er\n",
    "        not_expected = 0\n",
    "        self.assertTrue(observed > not_expected,\n",
    "                        self.addcontext(\"\".join((\"If {IP3:0,Calcium_ER:1} then there is more than \", str(not_expected), \" trap spaces.\")), \n",
    "                                observed))\n",
    "    \n",
    "    # Test that when the ER is filled, SERCA is inactive\n",
    "    def test_calc_tp_rest_ER1_SERCA0(self):\n",
    "        calcium_in_er = [tp for tp in self.resting_tp if tp[\"Calcium_ER\"]==1]\n",
    "        for tp in calcium_in_er:\n",
    "            observed = tp[\"SERCA\"]\n",
    "            expected = 0\n",
    "            self.assertEqual(observed, expected, \n",
    "                             self.addcontext(\"\".join((\"If {IP3:0,Calcium_ER:1} then SERCA:\", str(expected))),\n",
    "                                     \" \".join((str(observed), \"in\", str(tp))) ))\n",
    "\n",
    "    # Test that when there is no input signal and the ER is filled, \n",
    "    # Calcium never reaches a sufficient level to activate downstream signalling.\n",
    "    def test_calc_tp_rest_ER1_cyt1(self):\n",
    "        calcium_in_er = [tp for tp in self.resting_tp if tp[\"ZAP70\"]==0 and tp[\"WAVE_cplx\"]==0 and tp[\"Calcium_ER\"]==1]\n",
    "        for tp in calcium_in_er:\n",
    "            observed = tp[\"Calcium_cyt_b2\"]\n",
    "            expected = 0\n",
    "            self.assertEqual(observed, expected, \n",
    "                             self.addcontext(\"\".join((\"If {IP3:0,ZAP70:0,WAVE_cplx:0,Calcium_ER:1} then Calcium_cyt_b2:\", str(expected))),\n",
    "                                     \" \".join((str(observed), \"in\", str(tp))) ))\n",
    "\n",
    "# Add tests to the current suite\n",
    "calcium_suite.addTests(unittest.makeSuite(TestCalciumQuiescent, prefix=\"test_\"))\n",
    "# Run these tests independently\n",
    "if debug_test_cases : runner.run(unittest.makeSuite(TestCalciumQuiescent, prefix=\"test_\"))"
   ]
  },
  {
   "cell_type": "markdown",
   "metadata": {},
   "source": [
    "<a name=\"caactive\"></a>\n",
    "### When an activation signal is received (IP3 signal is present)\n",
    "[(Back to top.)](#toc)\n",
    "\n",
    "- [x] There exist at least one trap space.\n",
    "- [x] When there is no cytoskeletal remodelling (no Mitochondrial translocation), cytoplasmic Calcium cannot reach its maximal level.\n",
    "\n",
    "\n",
    "#### All input signals on\n",
    "\n",
    "Important analysis for TCR activation as this will determine the calcium signal sent downstream IP3 when all input signals are on. In summary, the ER compartment get emptied while cytoplasm becomes full (level2) thanks to the presence of Mitochondria buffering the calcium influx far from ORAI1 and PMCA.\n",
    "\n",
    "| IP3 | ZAP70 | WAVE_cplx | IP3R1 | Calcium_cyt | Calcium_ER | SERCA | STIM1 | ORAI1 | PMCA | Mitochondria |\n",
    "| :---: | :---: | :---: | :---: | :---: | :---: | :---: | :---: | :---: | :---: | :---: |\n",
    "| 1   | 1     | 1         | *     | *           | 1          | *     | *     | *     | *    | *            |\n",
    "| Expected : | | | | | | | | | | |\n",
    "| 1   | 1     | 1         | 1     | 2           | 0          | 1     | 1     | 1     | 0    | 1            |\n",
    "\n",
    "More specifically: IP3R1 gets activated by IP3. STIM1 is activated by the drop in Calcium_ER. SERCA gets activated by the drop in Calcium_ER but is not able to refill ER as long as IP3R1 stays active. SERCA alone cannot make Calcium_cyt:2 drop. ORAI1 allows Calcium_cyt to increase to level 2 and is not de-activated by the increase of cytoplasmic Calcium thanks to the translocation of mitochondria acting as a buffer. PMCA is inactive also thanks to mitochondrial translocation.\n",
    "\n",
    "- [x] There exist only one trap space.\n",
    "- [x] ER is empty.\n",
    "- [x] SERCA is activated.\n",
    "- [x] Calcium cytoplasmic reaches a sufficient level to activate downstream signalling.\n",
    "- [x] We observe mitochondrial translocation."
   ]
  },
  {
   "cell_type": "code",
   "execution_count": 9,
   "metadata": {},
   "outputs": [
    {
     "name": "stderr",
     "output_type": "stream",
     "text": [
      "test_calc_tp_act_allinput_Cyt2 (__main__.TestCalciumActivation) ... ok\n",
      "test_calc_tp_act_allinput_ER0 (__main__.TestCalciumActivation) ... ok\n",
      "test_calc_tp_act_allinput_Mit1 (__main__.TestCalciumActivation) ... ok\n",
      "test_calc_tp_act_allinput_SERCA1 (__main__.TestCalciumActivation) ... ok\n",
      "test_calc_tp_act_allinput_tpalone (__main__.TestCalciumActivation) ... ok\n",
      "test_calc_tp_act_nomitochondria (__main__.TestCalciumActivation) ... ok\n",
      "test_calc_tp_act_tppresent (__main__.TestCalciumActivation) ... ok\n",
      "\n",
      "----------------------------------------------------------------------\n",
      "Ran 7 tests in 0.126s\n",
      "\n",
      "OK\n"
     ]
    }
   ],
   "source": [
    "class TestCalciumActivation(CalciumModuleTestCase):\n",
    "    \n",
    "    # Note: changing core_vals was restricting core components values, thus setting up unwanted perturbations. \n",
    "    # To implement this test, I need to find a set up where I can specify that there is calcium either \n",
    "    # in the ER or the cytoplasm in the initial state.\n",
    "    input_vals = {}\n",
    "    core_vals = {}\n",
    "    pattern = None\n",
    "    active_tp = None\n",
    "    \n",
    "    @classmethod\n",
    "    def setUpClass(cls):\n",
    "        cls.pattern = dash_pattern(cls.model, {**cls.input_vals, **cls.core_vals})\n",
    "        cls.active_tp = [tp for tp in biolqm.trapspaces(cls.model) if tp[\"IP3\"]==1]\n",
    "    \n",
    "    def addcontext(self, message, observed):\n",
    "        return(\" \".join((\"Pattern:\", self.pattern, \"\\n\",\n",
    "                       \"Context:\", str(self.input_vals), str(self.core_vals), \"\\n\",\n",
    "                       \"Tested:\", message, \"\\n\", \n",
    "                       \"Observed:\", str(observed), \".\\n\")))\n",
    "\n",
    "    # Test that there exist at least one trap space.\n",
    "    def test_calc_tp_act_tppresent(self):\n",
    "        observed = len(self.active_tp)\n",
    "        not_expected = 0\n",
    "        self.assertTrue(observed > not_expected,\n",
    "                        self.addcontext(\"\".join((\"If {IP3:1} then there is more than \", str(not_expected), \" trap spaces.\")), \n",
    "                                observed))\n",
    "\n",
    "    # Test that when there is no cytoskeletal remodelling there is no Mitochondrial translocation (and cytoplasmic Calcium cannot reach its maximal level).\n",
    "    def test_calc_tp_act_nomitochondria(self):\n",
    "        no_cytoskeleton = [tp for tp in self.active_tp if tp[\"ZAP70\"]==0 and tp[\"WAVE_cplx\"]==1]\n",
    "        for tp in no_cytoskeleton:\n",
    "            observed = tp[\"Mitochondria\"]\n",
    "            expected = 0\n",
    "            self.assertEqual(observed, expected,\n",
    "                        self.addcontext(\"\".join((\"If {IP3:1,ZAP70:0,WAVE_cplx:1} then Mitochondria:\", str(expected))), \n",
    "                                observed))\n",
    "\n",
    "    # Test that when all input signals are present, there exist only one trap space.\n",
    "    def test_calc_tp_act_allinput_tpalone(self):\n",
    "        observed = len([tp for tp in self.active_tp if tp[\"ZAP70\"]==1 and tp[\"WAVE_cplx\"]==1])\n",
    "        expected = 1\n",
    "        self.assertEqual(observed, expected,\n",
    "                        self.addcontext(\"\".join((\"If {IP3:1,ZAP70:1,WAVE_cplx:1} then there is exactly \", str(expected), \" trap spaces.\")), \n",
    "                                observed))\n",
    "\n",
    "    # Test that when all input signals are present, ER is empty.\n",
    "    def test_calc_tp_act_allinput_ER0(self):\n",
    "        allinput = [tp for tp in self.active_tp if tp[\"ZAP70\"]==1 and tp[\"WAVE_cplx\"]==1]\n",
    "        for tp in allinput:\n",
    "            observed = tp[\"Calcium_ER\"]\n",
    "            expected = 0\n",
    "            self.assertEqual(observed, expected, \n",
    "                             self.addcontext(\"\".join((\"If {IP3:1,ZAP70:1,WAVE_cplx:1} then Calcium_ER:\", str(expected))),\n",
    "                                     \" \".join((str(observed), \"in\", str(tp))) ))\n",
    "\n",
    "    # Test that when all input signals are present, \n",
    "    # SERCA is activated.\n",
    "    def test_calc_tp_act_allinput_SERCA1(self):\n",
    "        allinput = [tp for tp in self.active_tp if tp[\"ZAP70\"]==1 and tp[\"WAVE_cplx\"]==1]\n",
    "        for tp in allinput:\n",
    "            observed = tp[\"SERCA\"]\n",
    "            expected = 1\n",
    "            self.assertEqual(observed, expected, \n",
    "                             self.addcontext(\"\".join((\"If {IP3:1,ZAP70:1,WAVE_cplx:1} then SERCA:\", str(expected))),\n",
    "                                     \" \".join((str(observed), \"in\", str(tp))) ))\n",
    "\n",
    "    # Test that when all input signals are present, \n",
    "    # Calcium cytoplasmic reaches a sufficient level to activate downstream signalling.\n",
    "    def test_calc_tp_act_allinput_Cyt2(self):\n",
    "        allinput = [tp for tp in self.active_tp if tp[\"ZAP70\"]==1 and tp[\"WAVE_cplx\"]==1]\n",
    "        for tp in allinput:\n",
    "            observed = tp[\"Calcium_cyt_b2\"]\n",
    "            expected = 1\n",
    "            self.assertEqual(observed, expected, \n",
    "                             self.addcontext(\"\".join((\"If {IP3:1,ZAP70:1,WAVE_cplx:1} then Calcium_cyt_b2:\", str(expected))),\n",
    "                                     \" \".join((str(observed), \"in\", str(tp))) ))\n",
    "\n",
    "    # Test that when all input signals are present, \n",
    "    # we observe mitochondrial translocation.\n",
    "    def test_calc_tp_act_allinput_Mit1(self):\n",
    "        allinput = [tp for tp in self.active_tp if tp[\"ZAP70\"]==1 and tp[\"WAVE_cplx\"]==1]\n",
    "        for tp in allinput:\n",
    "            observed = tp[\"Mitochondria\"]\n",
    "            expected = 1\n",
    "            self.assertEqual(observed, expected, \n",
    "                             self.addcontext(\"\".join((\"If {IP3:1,ZAP70:1,WAVE_cplx:1} then Mitochondria:\", str(expected))),\n",
    "                                     \" \".join((str(observed), \"in\", str(tp))) ))\n",
    "\n",
    "# Add tests to the current suite\n",
    "calcium_suite.addTests(unittest.makeSuite(TestCalciumActivation, prefix=\"test_\"))\n",
    "# Run these tests independently\n",
    "if debug_test_cases : runner.run(unittest.makeSuite(TestCalciumActivation, prefix=\"test_\"))"
   ]
  },
  {
   "cell_type": "markdown",
   "metadata": {},
   "source": [
    "<a name=\"carunall\"></a>\n",
    "## Run all module tests\n",
    "[(Back to top.)](#toc)"
   ]
  },
  {
   "cell_type": "code",
   "execution_count": 10,
   "metadata": {
    "scrolled": false
   },
   "outputs": [
    {
     "name": "stderr",
     "output_type": "stream",
     "text": [
      "test_calc_tp_rest_ER1_SERCA0 (__main__.TestCalciumQuiescent) ... ok\n",
      "test_calc_tp_rest_ER1_cyt1 (__main__.TestCalciumQuiescent) ... ok\n",
      "test_calc_tp_rest_ER1_present (__main__.TestCalciumQuiescent) ... ok\n",
      "test_calc_tp_rest_nbtp (__main__.TestCalciumQuiescent) ... ok\n",
      "test_calc_tp_rest_noCalcium (__main__.TestCalciumQuiescent) ... ok\n",
      "test_calc_tp_act_allinput_Cyt2 (__main__.TestCalciumActivation) ... ok\n",
      "test_calc_tp_act_allinput_ER0 (__main__.TestCalciumActivation) ... ok\n",
      "test_calc_tp_act_allinput_Mit1 (__main__.TestCalciumActivation) ... ok\n",
      "test_calc_tp_act_allinput_SERCA1 (__main__.TestCalciumActivation) ... ok\n",
      "test_calc_tp_act_allinput_tpalone (__main__.TestCalciumActivation) ... ok\n",
      "test_calc_tp_act_nomitochondria (__main__.TestCalciumActivation) ... ok\n",
      "test_calc_tp_act_tppresent (__main__.TestCalciumActivation) ... ok\n",
      "\n",
      "----------------------------------------------------------------------\n",
      "Ran 12 tests in 0.370s\n",
      "\n",
      "OK\n"
     ]
    }
   ],
   "source": [
    "# Add tests to the global suite\n",
    "all_suite.addTests(calcium_suite)\n",
    "# Run these tests independently\n",
    "if debug_test_suites : runner.run(calcium_suite)"
   ]
  },
  {
   "cell_type": "markdown",
   "metadata": {},
   "source": [
    "<a name=\"lck\"></a>\n",
    "# LCK module\n",
    "[(Back to top.)](#toc)\n",
    "\n",
    "<a name=\"lckpres\"></a>\n",
    "## Presentation\n",
    "[(Back to top.)](#toc)\n",
    "\n",
    "T Cell Receptors (TCRs) bind antigens, allowins both sensitivity and specificity in the subsequent signal transmission depending on affinity and dosage. \n",
    "\n",
    "LCK is the major kinase involved in transduction of the TCR signal as it is responsible for the phosphorylation of TCRs and of its main interactor, ZAP70. But its regulation follows complex rules based on its phosphorylation state, constraining its folding and by consequence its activity. In parallel, FYN is subject to a similar regulation, but our knowledge is less detailed.\n",
    "\n",
    "These two elements, TCR and LCK are at the core of the current module. For a review on the initiation of TCR signalling and the activity of LCK depending on its phosphorylation state, see [PMID:25137454](https://www.ncbi.nlm.nih.gov/pubmed/25137454).\n",
    "\n",
    "Additional hypotheses and decisions were needed to build the logical model:\n",
    "\n",
    "- It is possible to have pS59 phosphorylation of LCK without prior pY394 (independence of the nodes), even if in reality pS59 by MAPK1/MAPK3 cannot happen without transmission of the TCR signal by activated LCK (thus phosphorylated on Y394).\n",
    "- pS59 on SH2 domain of LCK impacts the binding of: PTPN6? Yes, see [PMID:12577055](https://www.ncbi.nlm.nih.gov/pubmed/12577055). PTPN22? Unknown. PTPRC? Unknown.\n",
    "- In an LCK/LIME1/CSK complex, can other phosphatases act on LCK? \n",
    " - We know that CSK and LCK bind LIME1 through their SH2 domains ([PMID:25137454](https://www.ncbi.nlm.nih.gov/pubmed/25137454)). \n",
    " - PTPN22 binds CSK on its SH3 domain ([PMID:25137454](https://www.ncbi.nlm.nih.gov/pubmed/25137454)). So, a priori, yes. But including this conpletely dirsupts the model...\n",
    " - PTPN6 binds LCK on its SH2 domain ([PMID:25137454](https://www.ncbi.nlm.nih.gov/pubmed/25137454)) (and is disrupted by S59 phosphorylation). So, no, PTPN6 binding would be prevented by in-place LIME1 binding.\n",
    " - PTPRC binds the SH2 domain of LCK ([PMID:25137454](https://www.ncbi.nlm.nih.gov/pubmed/25137454)) (and is physically excluded from micro-clusters formed after TCR triggering (PMID:23931554)). So, no."
   ]
  },
  {
   "cell_type": "markdown",
   "metadata": {},
   "source": [
    "<a name=\"lckcomp\"></a>\n",
    "## Core components and extracted sub-model\n",
    "[(Back to top.)](#toc)\n"
   ]
  },
  {
   "cell_type": "code",
   "execution_count": 11,
   "metadata": {
    "scrolled": false
   },
   "outputs": [],
   "source": [
    "# Test suite for all LCK-related tests.\n",
    "lck_suite = unittest.TestSuite()\n",
    "\n",
    "class LCKModuleTestCase(unittest.TestCase):\n",
    "    \"\"\"Sub-model to be tested.\"\"\"\n",
    "    model = biolqm.submodel(lqm, \n",
    "                            \" \".join((\"i_pMHCII_binding i_pMHCII_agonist i_pMHCII_dose i_pMHCII_affinity TCRalphabeta pTCR\",\n",
    "                                      \"LCK pY505LCK pY394LCK pS59LCK LCK_activity\",\n",
    "                                      \"PTPRC PAG1 CSK PTPN22 CD4 LIME1\",\n",
    "                                      \"FYN\"\n",
    "    )))\n"
   ]
  },
  {
   "cell_type": "code",
   "execution_count": 12,
   "metadata": {
    "scrolled": false
   },
   "outputs": [
    {
     "data": {
      "text/plain": [
       "\"['i_pMHCII_binding', 'i_pMHCII_agonist', 'i_pMHCII_dose', 'i_pMHCII_affinity', 'TCRalphabeta', 'pTCR', 'CD28', 'PKA', 'CD4', 'f_MAL', 'f_UNC119', 'f_RAB11A', 'LCK', 'pY505LCK', 'pY394LCK', 'pS59LCK', 'LCK_activity', 'CSK', 'PAG1', 'LIME1', 'PTPN6', 'PTPN22', 'PTPRC', 'PTPN11', 'FYN', 'MAPK3', 'MAPK1']\""
      ]
     },
     "execution_count": 12,
     "metadata": {},
     "output_type": "execute_result"
    }
   ],
   "source": [
    "str([component.toString() for component in LCKModuleTestCase.model.getComponents()])"
   ]
  },
  {
   "cell_type": "code",
   "execution_count": 13,
   "metadata": {
    "scrolled": true
   },
   "outputs": [
    {
     "data": {
      "text/plain": [
       "CD28 <- CD28\n",
       "CD4 <- i_pMHCII_binding\n",
       "CSK <- (!PKA&!PAG1&LIME1)|(!PKA&PAG1)|PKA\n",
       "FYN <- LCK_activity\n",
       "LCK <- (!f_MAL&f_UNC119&f_RAB11A)|f_MAL\n",
       "LCK_activity <- (!CD28&CD4&!pY505LCK&pY394LCK)|(!CD28&CD4&pY505LCK&pY394LCK&LIME1)|(CD28&!pY505LCK&pY394LCK)|(CD28&pY505LCK&pY394LCK&LIME1)\n",
       "LIME1 <- CD4\n",
       "MAPK1 <- MAPK1\n",
       "MAPK3 <- MAPK3\n",
       "PAG1 <- !TCRalphabeta\n",
       "PKA <- PKA\n",
       "PTPN11 <- PTPN11\n",
       "PTPN22 <- CSK&!LIME1\n",
       "PTPN6 <- PTPN6\n",
       "PTPRC <- !TCRalphabeta\n",
       "TCRalphabeta <- (i_pMHCII_binding&i_pMHCII_agonist&!i_pMHCII_dose&i_pMHCII_affinity&!PTPN11)|(i_pMHCII_binding&i_pMHCII_agonist&i_pMHCII_dose&!i_pMHCII_affinity&!PTPN11)\n",
       "f_MAL <- 1\n",
       "f_RAB11A <- 1\n",
       "f_UNC119 <- 1\n",
       "i_pMHCII_affinity <- i_pMHCII_affinity\n",
       "i_pMHCII_agonist <- i_pMHCII_agonist\n",
       "i_pMHCII_binding <- i_pMHCII_binding\n",
       "i_pMHCII_dose <- i_pMHCII_dose\n",
       "pS59LCK <- (LCK&!pS59LCK&!MAPK3&MAPK1)|(LCK&!pS59LCK&MAPK3)|(LCK&pS59LCK)\n",
       "pTCR <- (TCRalphabeta&!LCK_activity&!PTPN22&FYN)|(TCRalphabeta&LCK_activity&!PTPN22)\n",
       "pY394LCK <- (LCK&!pS59LCK&!LIME1&!PTPN6&!PTPN22&!PTPRC)|(LCK&!pS59LCK&LIME1&!PTPN6&!PTPN22)|(LCK&pS59LCK&!LIME1&!PTPN22&!PTPRC)|(LCK&pS59LCK&LIME1&!PTPN22)\n",
       "pY505LCK <- (LCK&!pY505LCK&CSK&!LIME1&!PTPRC)|(LCK&!pY505LCK&CSK&LIME1)|(LCK&pY505LCK&!LIME1&!PTPRC)|(LCK&pY505LCK&LIME1)"
      ]
     },
     "execution_count": 13,
     "metadata": {},
     "output_type": "execute_result"
    }
   ],
   "source": [
    "biolqm.to_minibn(LCKModuleTestCase.model)"
   ]
  },
  {
   "cell_type": "markdown",
   "metadata": {},
   "source": [
    "<a name=\"lcktests\"></a>\n",
    "## Test cases\n",
    "[(Back to top.)](#toc)"
   ]
  },
  {
   "cell_type": "markdown",
   "metadata": {},
   "source": [
    "<a name=\"lckresting\"></a>\n",
    "### Resting state\n",
    "[(Back to top.)](#toc)\n",
    "\n",
    "If the T cell doesn't receive any signal through the TCR, i.e. if there is no antigen whatsoever binding to it, LCK should never be in a configuration that can give rise to sufficient phosphorylation of the neighbouring TCR complexes.\n",
    "\n",
    "* [x] If there is no antigen binding, LCK is inactive. \n",
    "* [x] If there is no antigen binding, TCR is unphosphorylated. "
   ]
  },
  {
   "cell_type": "code",
   "execution_count": 14,
   "metadata": {},
   "outputs": [
    {
     "name": "stderr",
     "output_type": "stream",
     "text": [
      "test_lck_tp_rest_lcknotactive (__main__.TestLCKResting) ... ok\n",
      "test_lck_tp_rest_tcrnotp (__main__.TestLCKResting) ... ok\n",
      "\n",
      "----------------------------------------------------------------------\n",
      "Ran 2 tests in 23.624s\n",
      "\n",
      "OK\n"
     ]
    }
   ],
   "source": [
    "class TestLCKResting(LCKModuleTestCase):\n",
    "    \n",
    "    input_vals = {}\n",
    "    core_vals = {}\n",
    "    pattern = None\n",
    "    resting_tp = None\n",
    "    \n",
    "    @classmethod\n",
    "    def setUpClass(cls):\n",
    "        cls.pattern = dash_pattern(cls.model, {**cls.input_vals, **cls.core_vals})\n",
    "        cls.resting_tp = [tp for tp in biolqm.trapspaces(cls.model) if tp[\"i_pMHCII_binding\"]==0]\n",
    "    \n",
    "    def addcontext(self, message, observed):\n",
    "        return(\" \".join((\"Pattern:\", self.pattern, \"\\n\",\n",
    "                       \"Context:\", str(self.input_vals), str(self.core_vals), \"\\n\",\n",
    "                       \"Tested:\", message, \"\\n\", \n",
    "                       \"Observed:\", str(observed), \".\\n\")))\n",
    "\n",
    "    # Test that in absence of any binding to the TCR, LCK is inactive\n",
    "    def test_lck_tp_rest_lcknotactive(self):\n",
    "        for tp in self.resting_tp:\n",
    "            observed = tp[\"LCK_activity\"]\n",
    "            expected = 0\n",
    "            self.assertEqual(observed, expected, \n",
    "                             self.addcontext(\"\".join((\"If {i_pMHCII_binding:0} then LCK_activity:\", str(expected))),\n",
    "                                     \" \".join((str(observed), \"in\", str(tp))) ))\n",
    "\n",
    "    # Test that in absence of any binding to the TCR, LCK is inactive\n",
    "    def test_lck_tp_rest_tcrnotp(self):\n",
    "        for tp in self.resting_tp:\n",
    "            observed = tp[\"pTCR\"]\n",
    "            expected = 0\n",
    "            self.assertEqual(observed, expected, \n",
    "                             self.addcontext(\"\".join((\"If {i_pMHCII_binding:0} then pTCR:\", str(expected))),\n",
    "                                     \" \".join((str(observed), \"in\", str(tp))) ))\n",
    "\n",
    "# Add tests to the current suite\n",
    "lck_suite.addTests(unittest.makeSuite(TestLCKResting, prefix=\"test_\"))\n",
    "# Run these tests independently\n",
    "if debug_test_cases : runner.run(unittest.makeSuite(TestLCKResting, prefix=\"test_\"))"
   ]
  },
  {
   "cell_type": "markdown",
   "metadata": {},
   "source": [
    "<a name=\"lcknonprod\"></a>\n",
    "### Non-productive bindings\n",
    "[(Back to top.)](#toc)\n",
    "\n",
    "T Cell receptors can be bound by many antigens, but not all of them are agonist nor have the correct affinity and dose to elicit activation of the T Cell. More precisely, in the model, a productive signal (as measured by the level of phosphorylated TCR) should not be observed in these cases. In parallel, the possible phosphorylation states of LCK change, allowing it to become active. But the global context should prevent it to have an impact on pTCR.\n",
    "\n",
    "Note that MAPK1 and MAPK3 being only activated by the feedback signal caused by a first activation of the signalling cascade downstream of the TCR, the cases where they are turned on are not considered in the following tests.\n",
    "\n",
    "* [x] If an antagonist antigen binds, pTCR is inactive. \n",
    "* [x] If an agonist antigen binds with low dose and affinity, pTCR is inactive. \n",
    "* [x] If an agonist antigen binds with high dose and affinity, pTCR is inactive. "
   ]
  },
  {
   "cell_type": "code",
   "execution_count": 15,
   "metadata": {},
   "outputs": [
    {
     "name": "stderr",
     "output_type": "stream",
     "text": [
      "test_lck_tp_antigenaghigh_ptcr (__main__.TestLCKNonProd) ... ok\n",
      "test_lck_tp_antigenaglow_ptcr (__main__.TestLCKNonProd) ... ok\n",
      "test_lck_tp_antigenantag_ptcr (__main__.TestLCKNonProd) ... ok\n",
      "\n",
      "----------------------------------------------------------------------\n",
      "Ran 3 tests in 23.168s\n",
      "\n",
      "OK\n"
     ]
    }
   ],
   "source": [
    "class TestLCKNonProd(LCKModuleTestCase):\n",
    "    \n",
    "    input_vals = {}\n",
    "    core_vals = {}\n",
    "    pattern = None\n",
    "    nonprod_tp = None\n",
    "    \n",
    "    @classmethod\n",
    "    def setUpClass(cls):\n",
    "        cls.pattern = dash_pattern(cls.model, {**cls.input_vals, **cls.core_vals})\n",
    "        cls.nonprod_tp = [tp for tp in biolqm.trapspaces(cls.model) if tp[\"i_pMHCII_binding\"]==1 and \n",
    "                              tp[\"MAPK1\"]==0 and tp[\"MAPK3\"]==0 and\n",
    "                              not (tp[\"i_pMHCII_agonist\"]==1 and tp[\"i_pMHCII_dose\"]==0 and tp[\"i_pMHCII_affinity\"]==1 or\n",
    "                                  tp[\"i_pMHCII_agonist\"]==1 and tp[\"i_pMHCII_dose\"]==1 and tp[\"i_pMHCII_affinity\"]==0)]\n",
    "    \n",
    "    def addcontext(self, message, observed):\n",
    "        return(\" \".join((\"Pattern:\", self.pattern, \"\\n\",\n",
    "                       \"Context:\", str(self.input_vals), str(self.core_vals), \"\\n\",\n",
    "                       \"Tested:\", message, \"\\n\", \n",
    "                       \"Observed:\", str(observed), \".\\n\")))\n",
    "\n",
    "    # Test that with an antagonist antigen binding, pTCR is always off\n",
    "    def test_lck_tp_antigenantag_ptcr(self):\n",
    "        antagonist_tp = [tp for tp in self.nonprod_tp if tp[\"i_pMHCII_agonist\"]==0]\n",
    "        for tp in antagonist_tp:\n",
    "            observed = tp[\"pTCR\"]\n",
    "            expected = 0\n",
    "            self.assertEqual(observed, expected, \n",
    "                             self.addcontext(\"\".join((\"If {i_pMHCII_binding:1,i_pMHCII_agonist:0,MAPK1:0,MAPK3:0} then pTCR:\", str(expected))),\n",
    "                                     \" \".join((str(observed), \"in\", str(tp))) ))\n",
    "\n",
    "    # Test that with an agonist antigen binding, but with dose and affinity too low\n",
    "    def test_lck_tp_antigenaglow_ptcr(self):\n",
    "        antagonist_tp = [tp for tp in self.nonprod_tp if tp[\"i_pMHCII_agonist\"]==1 and \n",
    "                         tp[\"i_pMHCII_dose\"]==0 and tp[\"i_pMHCII_affinity\"]==0]\n",
    "        for tp in antagonist_tp:\n",
    "            observed = tp[\"pTCR\"]\n",
    "            expected = 0\n",
    "            self.assertEqual(observed, expected, \n",
    "                             self.addcontext(\"\".join((\"If {i_pMHCII_binding:1,i_pMHCII_agonist:0,MAPK1:0,MAPK3:0,i_pMHCII_dose:0,i_pMHCII_affinity:0} then pTCR:\", str(expected))),\n",
    "                                     \" \".join((str(observed), \"in\", str(tp))) ))\n",
    "\n",
    "    # Test that with an agonist antigen binding, but with dose and affinity too low\n",
    "    def test_lck_tp_antigenaghigh_ptcr(self):\n",
    "        antagonist_tp = [tp for tp in self.nonprod_tp if tp[\"i_pMHCII_agonist\"]==1 and \n",
    "                         tp[\"i_pMHCII_dose\"]==1 and tp[\"i_pMHCII_affinity\"]==1]\n",
    "        for tp in antagonist_tp:\n",
    "            observed = tp[\"pTCR\"]\n",
    "            expected = 0\n",
    "            self.assertEqual(observed, expected, \n",
    "                             self.addcontext(\"\".join((\"If {i_pMHCII_binding:1,i_pMHCII_agonist:0,MAPK1:0,MAPK3:0,i_pMHCII_dose:1,i_pMHCII_affinity:1} then pTCR:\", str(expected))),\n",
    "                                     \" \".join((str(observed), \"in\", str(tp))) ))\n",
    "\n",
    "# Add tests to the current suite\n",
    "lck_suite.addTests(unittest.makeSuite(TestLCKNonProd, prefix=\"test_\"))\n",
    "# Run these tests independently\n",
    "if debug_test_cases : runner.run(unittest.makeSuite(TestLCKNonProd, prefix=\"test_\"))"
   ]
  },
  {
   "cell_type": "markdown",
   "metadata": {},
   "source": [
    "<a name=\"lckprod\"></a>\n",
    "### Productive bindings\n",
    "[(Back to top.)](#toc)\n",
    "\n",
    "T Cell receptors bound by an agonist antigen with either a low dose and high affinity or high dose and low affinity can elicit a successful signalling downstream of the TCR. Whether this signal will elicit an activation of the cell depends on the activity of the necessary co-activator CD28.\n",
    "\n",
    "All tests below are performed in the context of a productive agonist (dose:low/affinity:high or dose:high/affinity:low).\n",
    "\n",
    "* [x] Without co-stimulation (CD28), without protective feedback, without co-inhibition, pTCR is always active (but T cells should not get activated). \n",
    "* [x] With co-stimulation (CD28), without co-inhibition, pTCR is always active.\n",
    "\n",
    "We are also interested in the relationship between PTPN6 and MAPK1/MAPK3, activated by a feedback signal (after a first activation of the signalling cascade downstream of the TCR).\n",
    "\n",
    "* [ ] With co-stimulation (CD28), with co-inhibition (PTPN6), without protective feedback (pS59:0), pTCR is always active.\n",
    "* [x] With co-stimulation (CD28), with co-inhibition (PTPN6), with protective feedback, pTCR is always active.\n",
    "* [x] With co-inhibition (PTPN11), pTCR is always off.\n"
   ]
  },
  {
   "cell_type": "code",
   "execution_count": 16,
   "metadata": {},
   "outputs": [
    {
     "name": "stderr",
     "output_type": "stream",
     "text": [
      "test_lck_tp_antigenag_ptcr_costim_nonegcostim (__main__.TestLCKProd) ... ok\n",
      "test_lck_tp_antigenag_ptcr_negcostim_PTPN11 (__main__.TestLCKProd) ... ok\n",
      "test_lck_tp_antigenag_ptcr_negcostim_PTPN6_feedback (__main__.TestLCKProd) ... ok\n",
      "test_lck_tp_antigenag_ptcr_negcostim_PTPN6_nofeedback (__main__.TestLCKProd) ... ok\n",
      "test_lck_tp_antigenag_ptcr_nocostim_nofeedback (__main__.TestLCKProd) ... ok\n",
      "\n",
      "----------------------------------------------------------------------\n",
      "Ran 5 tests in 24.212s\n",
      "\n",
      "OK\n"
     ]
    }
   ],
   "source": [
    "class TestLCKProd(LCKModuleTestCase):\n",
    "    \n",
    "    input_vals = {}\n",
    "    core_vals = {}\n",
    "    pattern = None\n",
    "    prod_tp = None\n",
    "    \n",
    "    @classmethod\n",
    "    def setUpClass(cls):\n",
    "        cls.pattern = dash_pattern(cls.model, {**cls.input_vals, **cls.core_vals})\n",
    "        cls.prod_tp = [tp for tp in biolqm.trapspaces(cls.model) if tp[\"i_pMHCII_binding\"]==1 and \n",
    "                              tp[\"i_pMHCII_agonist\"]==1 and\n",
    "                              (tp[\"i_pMHCII_dose\"]==0 and tp[\"i_pMHCII_affinity\"]==1 or \n",
    "                               tp[\"i_pMHCII_dose\"]==1 and tp[\"i_pMHCII_affinity\"]==0)]\n",
    "    \n",
    "    def addcontext(self, message, observed):\n",
    "        return(\" \".join((\"Pattern:\", self.pattern, \"\\n\",\n",
    "                       \"Context:\", str(self.input_vals), str(self.core_vals), \"\\n\",\n",
    "                       \"Tested:\", message, \"\\n\", \n",
    "                       \"Observed:\", str(observed), \".\\n\")))\n",
    "\n",
    "    # Test that with an agonist antigen binding with good dose/affinity (no feedback, no costimulation), \n",
    "    # pTCR is always on (this doesn't mean that the cell will be activated!)\n",
    "    def test_lck_tp_antigenag_ptcr_nocostim_nofeedback(self):\n",
    "        agonist10_tp = [tp for tp in self.prod_tp if tp[\"CD28\"]==0 and tp[\"MAPK1\"]==0 and tp[\"MAPK3\"]==0 and\n",
    "                           tp[\"PTPN6\"]==0 and tp[\"PTPN11\"]==0]\n",
    "        for tp in agonist10_tp:\n",
    "            observed = tp[\"pTCR\"]\n",
    "            expected = 1\n",
    "            self.assertEqual(observed, expected, \n",
    "                             self.addcontext(\"\".join((\"If {CD28:0,MAPK1:0,MAPK3:0,PTPN6:0,PTPN11:0} then pTCR:\", str(expected))),\n",
    "                                     \" \".join((str(observed), \"in\", str(tp))) ))\n",
    "\n",
    "    # Test that with an agonist antigen binding with good dose/affinity and costimulation through CD28 \n",
    "    # but no co-inhibition, pTCR is always on\n",
    "    def test_lck_tp_antigenag_ptcr_costim_nonegcostim(self):\n",
    "        agonist_tp = [tp for tp in self.prod_tp if tp[\"CD28\"]==1 and tp[\"PTPN6\"]==0 and tp[\"PTPN11\"]==0]\n",
    "        for tp in agonist_tp:\n",
    "            observed = tp[\"pTCR\"]\n",
    "            expected = 1\n",
    "            self.assertEqual(observed, expected, \n",
    "                             self.addcontext(\"\".join((\"If {CD28:1,PTPN6:0,PTPN11:0} then pTCR:\", str(expected))),\n",
    "                                     \" \".join((str(observed), \"in\", str(tp))) ))\n",
    "\n",
    "    # Test negative co-stimulation by PTPN6 without protective feedback, pTCR is always off\n",
    "    # NB: would fail when pS59LCK is initialized at 1 without MAPK1/MAPK3 being active...\n",
    "    def test_lck_tp_antigenag_ptcr_negcostim_PTPN6_nofeedback(self):\n",
    "        agonist_tp = [tp for tp in self.prod_tp if tp[\"PTPN6\"]==1 and tp[\"PTPN11\"]==0 and \n",
    "                          tp[\"MAPK1\"]==0 and tp[\"MAPK3\"]==0 and tp[\"pS59LCK\"]==0]\n",
    "        for tp in agonist_tp:\n",
    "            observed = tp[\"pTCR\"]\n",
    "            expected = 0\n",
    "            self.assertEqual(observed, expected, \n",
    "                             self.addcontext(\"\".join((\"If {PTPN6:1,PTPN11:0,MAPK1:0,MAPK3:0,pS59LCK:0} then pTCR:\", str(expected))),\n",
    "                                     \" \".join((str(observed), \"in\", str(tp))) ))\n",
    "\n",
    "    # Test negative co-stimulation through PTPN6 with protective feedback, pTCR is always on\n",
    "    def test_lck_tp_antigenag_ptcr_negcostim_PTPN6_feedback(self):\n",
    "        agonist_tp = [tp for tp in self.prod_tp if tp[\"PTPN6\"]==1 and tp[\"PTPN11\"]==0 and \n",
    "                          (tp[\"MAPK1\"]==1 or tp[\"MAPK3\"]==1)]\n",
    "        for tp in agonist_tp:\n",
    "            observed = tp[\"pTCR\"]\n",
    "            expected = 1\n",
    "            self.assertEqual(observed, expected, \n",
    "                             self.addcontext(\"\".join((\"If {PTPN6:1,PTPN11:0,MAPK1:1/MAPK3:1} then pTCR:\", str(expected))),\n",
    "                                     \" \".join((str(observed), \"in\", str(tp))) ))\n",
    "\n",
    "    # Test negative co-stimulation through PTPN11 (whatever the context), pTCR is always off\n",
    "    def test_lck_tp_antigenag_ptcr_negcostim_PTPN11(self):\n",
    "        agonist_tp = [tp for tp in self.prod_tp if tp[\"PTPN11\"]==1]\n",
    "        for tp in agonist_tp:\n",
    "            observed = tp[\"pTCR\"]\n",
    "            expected = 0\n",
    "            self.assertEqual(observed, expected, \n",
    "                             self.addcontext(\"\".join((\"If {PTPN11:1} then pTCR:\", str(expected))),\n",
    "                                     \" \".join((str(observed), \"in\", str(tp))) ))\n",
    "\n",
    "\n",
    "# Add tests to the current suite\n",
    "lck_suite.addTests(unittest.makeSuite(TestLCKProd, prefix=\"test_\"))\n",
    "# Run these tests independently\n",
    "if debug_test_cases : runner.run(unittest.makeSuite(TestLCKProd, prefix=\"test_\"))"
   ]
  },
  {
   "cell_type": "markdown",
   "metadata": {},
   "source": [
    "<a name=\"carunall\"></a>\n",
    "## Run all module tests\n",
    "[(Back to top.)](#toc)"
   ]
  },
  {
   "cell_type": "code",
   "execution_count": 17,
   "metadata": {
    "scrolled": false
   },
   "outputs": [
    {
     "name": "stderr",
     "output_type": "stream",
     "text": [
      "test_lck_tp_rest_lcknotactive (__main__.TestLCKResting) ... ok\n",
      "test_lck_tp_rest_tcrnotp (__main__.TestLCKResting) ... ok\n",
      "test_lck_tp_antigenaghigh_ptcr (__main__.TestLCKNonProd) ... ok\n",
      "test_lck_tp_antigenaglow_ptcr (__main__.TestLCKNonProd) ... ok\n",
      "test_lck_tp_antigenantag_ptcr (__main__.TestLCKNonProd) ... ok\n",
      "test_lck_tp_antigenag_ptcr_costim_nonegcostim (__main__.TestLCKProd) ... ok\n",
      "test_lck_tp_antigenag_ptcr_negcostim_PTPN11 (__main__.TestLCKProd) ... ok\n",
      "test_lck_tp_antigenag_ptcr_negcostim_PTPN6_feedback (__main__.TestLCKProd) ... ok\n",
      "test_lck_tp_antigenag_ptcr_negcostim_PTPN6_nofeedback (__main__.TestLCKProd) ... ok\n",
      "test_lck_tp_antigenag_ptcr_nocostim_nofeedback (__main__.TestLCKProd) ... ok\n",
      "\n",
      "----------------------------------------------------------------------\n",
      "Ran 10 tests in 75.744s\n",
      "\n",
      "OK\n"
     ]
    }
   ],
   "source": [
    "# Add tests to the global suite\n",
    "all_suite.addTests(lck_suite)\n",
    "# Run these tests independently\n",
    "if debug_test_suites : runner.run(lck_suite)"
   ]
  },
  {
   "cell_type": "markdown",
   "metadata": {},
   "source": [
    "<a name=\"skeleton\"></a>\n",
    "# Cytoskeleton module\n",
    "[(Back to top.)](#toc)\n",
    "\n",
    "<a name=\"skpres\"></a>\n",
    "## Presentation\n",
    "[(Back to top.)](#toc)\n",
    "\n",
    "As seen in the analysis of the [Calcium module](#calcium), activated T cells undergo strong cytoskeleton remodelling which has important consequences downstream of the TCR and for other processes. \n"
   ]
  },
  {
   "cell_type": "markdown",
   "metadata": {},
   "source": [
    "<a name=\"skcomp\"></a>\n",
    "## Core components and extracted sub-model\n",
    "[(Back to top.)](#toc)"
   ]
  },
  {
   "cell_type": "code",
   "execution_count": 18,
   "metadata": {
    "scrolled": false
   },
   "outputs": [],
   "source": [
    "# Test suite for all cytoskeleton-related tests.\n",
    "sk_suite = unittest.TestSuite()\n",
    "\n",
    "class CytoskeletonModuleTestCase(unittest.TestCase):\n",
    "    \"\"\"Sub-model to be tested.\"\"\"\n",
    "    model = biolqm.submodel(lqm, \n",
    "                            \" \".join((\"WAVE_cplx RAC1 NCK1 RHOA CDC42 PAK1 WAS ARP2_3 LIMK1 CFL1\",\n",
    "                                      \"Actin_polymerisation HCLS1 ROCK1 MLCP Actin_contraction_migration\"\n",
    "    )))\n"
   ]
  },
  {
   "cell_type": "code",
   "execution_count": 19,
   "metadata": {
    "scrolled": false
   },
   "outputs": [
    {
     "data": {
      "text/plain": [
       "\"['f_NCKAP1L', 'f_NCKAP1', 'f_BAIAP2', 'f_CYFIP1', 'f_BRK1', 'f_WASF2', 'f_ABI1', 'f_ABI2', 'f_ACTR2', 'f_ACTR3', 'LCP2', 'PIP2', 'PIP3', 'NCK1', 'CDC42', 'WAS', 'RAC1', 'WAVE_cplx', 'ARP2_3', 'PAK1', 'LIMK1', 'CFL1', 'HCLS1', 'VAV1', 'ABL1', 'Actin_polymerisation', 'RHOA', 'ROCK1', 'MLCP', 'Actin_contraction_migration']\""
      ]
     },
     "execution_count": 19,
     "metadata": {},
     "output_type": "execute_result"
    }
   ],
   "source": [
    "str([component.toString() for component in CytoskeletonModuleTestCase.model.getComponents()])"
   ]
  },
  {
   "cell_type": "code",
   "execution_count": 20,
   "metadata": {
    "scrolled": true
   },
   "outputs": [
    {
     "data": {
      "text/plain": [
       "ABL1 <- ABL1\n",
       "ARP2_3 <- (f_ACTR2&f_ACTR3&!WAS&WAVE_cplx)|(f_ACTR2&f_ACTR3&WAS)\n",
       "Actin_contraction_migration <- Actin_polymerisation&!MLCP\n",
       "Actin_polymerisation <- (ARP2_3&!CFL1)|(ARP2_3&CFL1&HCLS1)\n",
       "CDC42 <- VAV1\n",
       "CFL1 <- !LIMK1\n",
       "HCLS1 <- ABL1&Actin_polymerisation\n",
       "LCP2 <- LCP2\n",
       "LIMK1 <- (!PAK1&ROCK1)|PAK1\n",
       "MLCP <- !ROCK1\n",
       "NCK1 <- LCP2&VAV1\n",
       "PAK1 <- (!CDC42&RAC1)|CDC42\n",
       "PIP2 <- PIP2\n",
       "PIP3 <- PIP3\n",
       "RAC1 <- VAV1\n",
       "RHOA <- VAV1\n",
       "ROCK1 <- RHOA\n",
       "VAV1 <- VAV1\n",
       "WAS <- PIP2&NCK1&CDC42\n",
       "WAVE_cplx <- (!f_NCKAP1L&f_NCKAP1&f_BAIAP2&f_CYFIP1&f_BRK1&f_WASF2&!f_ABI1&f_ABI2&PIP3&RAC1&ABL1)|(!f_NCKAP1L&f_NCKAP1&f_BAIAP2&f_CYFIP1&f_BRK1&f_WASF2&f_ABI1&PIP3&RAC1&ABL1)|(f_NCKAP1L&f_BAIAP2&f_CYFIP1&f_BRK1&f_WASF2&!f_ABI1&f_ABI2&PIP3&RAC1&ABL1)|(f_NCKAP1L&f_BAIAP2&f_CYFIP1&f_BRK1&f_WASF2&f_ABI1&PIP3&RAC1&ABL1)\n",
       "f_ABI1 <- 1\n",
       "f_ABI2 <- 1\n",
       "f_ACTR2 <- 1\n",
       "f_ACTR3 <- 1\n",
       "f_BAIAP2 <- 1\n",
       "f_BRK1 <- 1\n",
       "f_CYFIP1 <- 1\n",
       "f_NCKAP1 <- 1\n",
       "f_NCKAP1L <- 1\n",
       "f_WASF2 <- 1"
      ]
     },
     "execution_count": 20,
     "metadata": {},
     "output_type": "execute_result"
    }
   ],
   "source": [
    "biolqm.to_minibn(CytoskeletonModuleTestCase.model)"
   ]
  },
  {
   "cell_type": "markdown",
   "metadata": {},
   "source": [
    "<a name=\"sktests\"></a>\n",
    "## Test cases\n",
    "[(Back to top.)](#toc)"
   ]
  },
  {
   "cell_type": "markdown",
   "metadata": {},
   "source": [
    "<a name=\"sknonbio\"></a>\n",
    "### Absence of PIP2 and PIP3\n",
    "[(Back to top.)](#toc)\n",
    "\n",
    "Complete absence of both PIP2 and PIP3 is not biologically correct. This case should not activate any of the phenotypes. The state of other components cannot be interpreted.\n",
    "\n",
    "* [x] No PIP2/PIP3, actin polymerisation phenotype is turned off.\n",
    "* [x] No PIP2/PIP3, actin contraction phenotype is turned off.\n"
   ]
  },
  {
   "cell_type": "code",
   "execution_count": 21,
   "metadata": {},
   "outputs": [
    {
     "name": "stderr",
     "output_type": "stream",
     "text": [
      "test_sk_tp_nopip_nomigration (__main__.TestCytoskeletonNonBio) ... ok\n",
      "test_sk_tp_nopip_nopolymerisation (__main__.TestCytoskeletonNonBio) ... ok\n",
      "\n",
      "----------------------------------------------------------------------\n",
      "Ran 2 tests in 0.791s\n",
      "\n",
      "OK\n"
     ]
    }
   ],
   "source": [
    "class TestCytoskeletonNonBio(CytoskeletonModuleTestCase):\n",
    "    \n",
    "    input_vals = {}\n",
    "    core_vals = {}\n",
    "    pattern = None\n",
    "    nonbio_tp = None\n",
    "    \n",
    "    @classmethod\n",
    "    def setUpClass(cls):\n",
    "        cls.pattern = dash_pattern(cls.model, {**cls.input_vals, **cls.core_vals})\n",
    "        cls.nonbio_tp = [tp for tp in biolqm.trapspaces(cls.model) if tp[\"PIP2\"]==0]\n",
    "    \n",
    "    def addcontext(self, message, observed):\n",
    "        return(\" \".join((\"Pattern:\", self.pattern, \"\\n\",\n",
    "                       \"Context:\", str(self.input_vals), str(self.core_vals), \"\\n\",\n",
    "                       \"Tested:\", message, \"\\n\", \n",
    "                       \"Observed:\", str(observed), \".\\n\")))\n",
    "\n",
    "    # Test that in absence of PIP2/PIP3, there is no migration\n",
    "    def test_sk_tp_nopip_nomigration(self):\n",
    "        nopip_tp = [tp for tp in self.nonbio_tp if tp[\"PIP3\"]==0]\n",
    "        for tp in nopip_tp:\n",
    "            observed = tp[\"Actin_contraction_migration\"]\n",
    "            expected = 0\n",
    "            self.assertEqual(observed, expected, \n",
    "                             self.addcontext(\"\".join((\"If {PIP2:0,PIP3:0} then Actin_contraction_migration:\", str(expected))),\n",
    "                                     \" \".join((str(observed), \"in\", str(tp))) ))\n",
    "\n",
    "    # Test that in absence of PIP2/PIP3, there is no actin polymerisation\n",
    "    def test_sk_tp_nopip_nopolymerisation(self):\n",
    "        nopip_tp = [tp for tp in self.nonbio_tp if tp[\"PIP3\"]==0]\n",
    "        for tp in nopip_tp:\n",
    "            observed = tp[\"Actin_polymerisation\"]\n",
    "            expected = 0\n",
    "            self.assertEqual(observed, expected, \n",
    "                             self.addcontext(\"\".join((\"If {PIP2:0,PIP3:0} then Actin_polymerisation:\", str(expected))),\n",
    "                                     \" \".join((str(observed), \"in\", str(tp))) ))\n",
    "\n",
    "# Add tests to the current suite\n",
    "sk_suite.addTests(unittest.makeSuite(TestCytoskeletonNonBio, prefix=\"test_\"))\n",
    "# Run these tests independently\n",
    "if debug_test_cases : runner.run(unittest.makeSuite(TestCytoskeletonNonBio, prefix=\"test_\"))"
   ]
  },
  {
   "cell_type": "markdown",
   "metadata": {},
   "source": [
    "<a name=\"skresting\"></a>\n",
    "### Resting state\n",
    "[(Back to top.)](#toc)\n",
    "\n",
    "In the absence of any received signal (through LCK/LCP2 or CD28), VAV1 being inactive, T cells don't go through any cytoskeleton remodelling. WAS cannot be activated. Cofilin (CFL1) and Protein phosphatase 1 regulatory subunit 12A (MLCP) are active, inhibiting the processes.\n",
    "\n",
    "\n",
    "* [x] No VAV1, CFL1 is active and cell migration is turned off.\n",
    "* [x] No VAV1, MLCP is active and actin polymerisation is turned off.\n",
    "* [x] With PIP2 but no signal from VAV1 or LCP2, the WAS complex is inactive."
   ]
  },
  {
   "cell_type": "code",
   "execution_count": 22,
   "metadata": {},
   "outputs": [
    {
     "name": "stderr",
     "output_type": "stream",
     "text": [
      "test_sk_tp_rest_nomigration (__main__.TestCytoskeletonResting) ... ok\n",
      "test_sk_tp_rest_nopolymerisation (__main__.TestCytoskeletonResting) ... ok\n",
      "test_sk_tp_rest_pip2novav1ornolcp2 (__main__.TestCytoskeletonResting) ... ok\n",
      "\n",
      "----------------------------------------------------------------------\n",
      "Ran 3 tests in 0.720s\n",
      "\n",
      "OK\n"
     ]
    }
   ],
   "source": [
    "class TestCytoskeletonResting(CytoskeletonModuleTestCase):\n",
    "    \n",
    "    input_vals = {}\n",
    "    core_vals = {}\n",
    "    pattern = None\n",
    "    resting_tp = None\n",
    "    \n",
    "    @classmethod\n",
    "    def setUpClass(cls):\n",
    "        cls.pattern = dash_pattern(cls.model, {**cls.input_vals, **cls.core_vals})\n",
    "        cls.resting_tp = [tp for tp in biolqm.trapspaces(cls.model) if not(tp[\"PIP2\"]==0 and tp[\"PIP3\"]==0)]\n",
    "    \n",
    "    def addcontext(self, message, observed):\n",
    "        return(\" \".join((\"Pattern:\", self.pattern, \"\\n\",\n",
    "                       \"Context:\", str(self.input_vals), str(self.core_vals), \"\\n\",\n",
    "                       \"Tested:\", message, \"\\n\", \n",
    "                       \"Observed:\", str(observed), \".\\n\")))\n",
    "\n",
    "    # Test that in absence of kinase, there is no migration\n",
    "    def test_sk_tp_rest_nomigration(self):\n",
    "        inactive_tp = [tp for tp in self.resting_tp if tp[\"VAV1\"]==0]\n",
    "        for tp in inactive_tp:\n",
    "            observed = tp[\"MLCP\"]\n",
    "            expected = 1\n",
    "            self.assertEqual(observed, expected, \n",
    "                             self.addcontext(\"\".join((\"If {VAV1:0} then MLCP:\", str(expected))),\n",
    "                                     \" \".join((str(observed), \"in\", str(tp))) ))\n",
    "        for tp in inactive_tp:\n",
    "            observed = tp[\"Actin_contraction_migration\"]\n",
    "            expected = 0\n",
    "            self.assertEqual(observed, expected, \n",
    "                             self.addcontext(\"\".join((\"If {VAV1:0} then Actin_contraction_migration:\", str(expected))),\n",
    "                                     \" \".join((str(observed), \"in\", str(tp))) ))\n",
    "\n",
    "    # Test that in absence of kinase, there is no polymerisation\n",
    "    def test_sk_tp_rest_nopolymerisation(self):\n",
    "        inactive_tp = [tp for tp in self.resting_tp if tp[\"VAV1\"]==0]\n",
    "        for tp in inactive_tp:\n",
    "            observed = tp[\"CFL1\"]\n",
    "            expected = 1\n",
    "            self.assertEqual(observed, expected, \n",
    "                             self.addcontext(\"\".join((\"If {VAV1:0} then CFL1:\", str(expected))),\n",
    "                                     \" \".join((str(observed), \"in\", str(tp))) ))\n",
    "        for tp in inactive_tp:\n",
    "            observed = tp[\"Actin_polymerisation\"]\n",
    "            expected = 0\n",
    "            self.assertEqual(observed, expected, \n",
    "                             self.addcontext(\"\".join((\"If {VAV1:0} then Actin_polymerisation:\", str(expected))),\n",
    "                                     \" \".join((str(observed), \"in\", str(tp))) ))\n",
    "\n",
    "    # Test that with PIP2 but no signal from VAV1 or from LCP2, the WAS complex cannot be activated\n",
    "    def test_sk_tp_rest_pip2novav1ornolcp2(self):\n",
    "        inactive_tp = [tp for tp in self.resting_tp if tp[\"PIP2\"]==1 and (tp[\"VAV1\"]==0 or tp[\"LCP2\"]==0)]\n",
    "        for tp in inactive_tp:\n",
    "            observed = tp[\"WAS\"]\n",
    "            expected = 0\n",
    "            self.assertEqual(observed, expected, \n",
    "                             self.addcontext(\"\".join((\"If {PIP2:1,VAV1:0/LCP2:0} then WAS:\", str(expected))),\n",
    "                                     \" \".join((str(observed), \"in\", str(tp))) ))\n",
    "\n",
    "# Add tests to the current suite\n",
    "sk_suite.addTests(unittest.makeSuite(TestCytoskeletonResting, prefix=\"test_\"))\n",
    "# Run these tests independently\n",
    "if debug_test_cases : runner.run(unittest.makeSuite(TestCytoskeletonResting, prefix=\"test_\"))"
   ]
  },
  {
   "cell_type": "markdown",
   "metadata": {},
   "source": [
    "<a name=\"skactive\"></a>\n",
    "### Activation\n",
    "[(Back to top.)](#toc)\n",
    "\n",
    "During activation, T cells undergo cytoskeleton remodelling. In a first step, using PIP2, activated WAS induces actin polymerisation. Secondly, if a co-activating signal is also present, PIP3 production allows the WAVE complex to take over WAS activity.\n",
    "\n",
    "* [x] No PIP2 means that WAS cannot be activated.\n",
    "* [x] No PIP3 means that the WAVE complex cannot be activated.\n",
    "* [x] PIP2, VAV1 and LCP2 activate WAS.\n",
    "* [x] PIP3 and CD28 activate the WAVE complex.\n",
    "* [x] WAS activation induces Actin polymerisation.\n",
    "* [x] WAVE complex activation induces Actin polymerisation.\n",
    "* [x] No VAV1 means no Actin contraction nor migration."
   ]
  },
  {
   "cell_type": "code",
   "execution_count": 23,
   "metadata": {},
   "outputs": [
    {
     "name": "stderr",
     "output_type": "stream",
     "text": [
      "test_sk_tp_activ_novav1_nomigration (__main__.TestCytoskeletonActivated) ... ok\n",
      "test_sk_tp_activ_pip2vav1lcp2 (__main__.TestCytoskeletonActivated) ... ok\n",
      "test_sk_tp_activ_pip3vav1abl1 (__main__.TestCytoskeletonActivated) ... ok\n",
      "test_sk_tp_activ_was (__main__.TestCytoskeletonActivated) ... ok\n",
      "test_sk_tp_activ_wave (__main__.TestCytoskeletonActivated) ... ok\n",
      "test_sk_tp_nopip2_nowas (__main__.TestCytoskeletonActivated) ... ok\n",
      "test_sk_tp_nopip3_nowave (__main__.TestCytoskeletonActivated) ... ok\n",
      "\n",
      "----------------------------------------------------------------------\n",
      "Ran 7 tests in 0.394s\n",
      "\n",
      "OK\n"
     ]
    }
   ],
   "source": [
    "class TestCytoskeletonActivated(CytoskeletonModuleTestCase):\n",
    "    \n",
    "    input_vals = {}\n",
    "    core_vals = {}\n",
    "    pattern = None\n",
    "    activ_tp = None\n",
    "    \n",
    "    @classmethod\n",
    "    def setUpClass(cls):\n",
    "        cls.pattern = dash_pattern(cls.model, {**cls.input_vals, **cls.core_vals})\n",
    "        cls.activ_tp = [tp for tp in biolqm.trapspaces(cls.model) if not(tp[\"PIP2\"]==0 and tp[\"PIP3\"]==0)]\n",
    "    \n",
    "    def addcontext(self, message, observed):\n",
    "        return(\" \".join((\"Pattern:\", self.pattern, \"\\n\",\n",
    "                       \"Context:\", str(self.input_vals), str(self.core_vals), \"\\n\",\n",
    "                       \"Tested:\", message, \"\\n\", \n",
    "                       \"Observed:\", str(observed), \".\\n\")))\n",
    "\n",
    "    # Test that in absence of PIP2, WAS cannot be activated\n",
    "    def test_sk_tp_nopip2_nowas(self):\n",
    "        nopip2_tp = [tp for tp in self.activ_tp if tp[\"PIP2\"]==0]\n",
    "        for tp in nopip2_tp:\n",
    "            observed = tp[\"WAS\"]\n",
    "            expected = 0\n",
    "            self.assertEqual(observed, expected, \n",
    "                             self.addcontext(\"\".join((\"If {PIP2:0} then WAS:\", str(expected))),\n",
    "                                     \" \".join((str(observed), \"in\", str(tp))) ))\n",
    "\n",
    "    # Test that in absence of PIP3, the WAVE complex cannot be activated\n",
    "    def test_sk_tp_nopip3_nowave(self):\n",
    "        nopip3_tp = [tp for tp in self.activ_tp if tp[\"PIP3\"]==0]\n",
    "        for tp in nopip3_tp:\n",
    "            observed = tp[\"WAVE_cplx\"]\n",
    "            expected = 0\n",
    "            self.assertEqual(observed, expected, \n",
    "                             self.addcontext(\"\".join((\"If {PIP3:0} then WAVE_cplx:\", str(expected))),\n",
    "                                     \" \".join((str(observed), \"in\", str(tp))) ))\n",
    "\n",
    "    # Test that with PIP2 and VAV1 and LCP2, the WAS complex is activated\n",
    "    def test_sk_tp_activ_pip2vav1lcp2(self):\n",
    "        signal_tp = [tp for tp in self.activ_tp if tp[\"PIP2\"]==1 and tp[\"VAV1\"]==1 and tp[\"LCP2\"]==1]\n",
    "        for tp in signal_tp:\n",
    "            observed = tp[\"WAS\"]\n",
    "            expected = 1\n",
    "            self.assertEqual(observed, expected, \n",
    "                             self.addcontext(\"\".join((\"If {PIP2:1,VAV1:1,LCP2:1} then WAS:\", str(expected))),\n",
    "                                     \" \".join((str(observed), \"in\", str(tp))) ))\n",
    "\n",
    "    # Test that with PIP3 and VAV1 and ABL1, the WAVE complex is activated\n",
    "    def test_sk_tp_activ_pip3vav1abl1(self):\n",
    "        signal_tp = [tp for tp in self.activ_tp if tp[\"PIP3\"]==1 and tp[\"VAV1\"]==1 and tp[\"ABL1\"]==1]\n",
    "        for tp in signal_tp:\n",
    "            observed = tp[\"WAVE_cplx\"]\n",
    "            expected = 1\n",
    "            self.assertEqual(observed, expected, \n",
    "                             self.addcontext(\"\".join((\"If {PIP3:1,VAV1:1,ABL1:1} then WAVE_cplx:\", str(expected))),\n",
    "                                     \" \".join((str(observed), \"in\", str(tp))) ))\n",
    "\n",
    "    # Test that with WAS active, there is actin polymerisation\n",
    "    def test_sk_tp_activ_was(self):\n",
    "        signal_tp = [tp for tp in self.activ_tp if tp[\"WAS\"]==1]\n",
    "        for tp in signal_tp:\n",
    "            observed = tp[\"Actin_polymerisation\"]\n",
    "            expected = 1\n",
    "            self.assertEqual(observed, expected, \n",
    "                             self.addcontext(\"\".join((\"If {WAS:1} then Actin_polymerisation:\", str(expected))),\n",
    "                                     \" \".join((str(observed), \"in\", str(tp))) ))\n",
    "\n",
    "    # Test that with WAVE_cplx active, there is actin polymerisation\n",
    "    def test_sk_tp_activ_wave(self):\n",
    "        signal_tp = [tp for tp in self.activ_tp if tp[\"WAVE_cplx\"]==1]\n",
    "        for tp in signal_tp:\n",
    "            observed = tp[\"Actin_polymerisation\"]\n",
    "            expected = 1\n",
    "            self.assertEqual(observed, expected, \n",
    "                             self.addcontext(\"\".join((\"If {WAVE_cplx:1} then Actin_polymerisation:\", str(expected))),\n",
    "                                     \" \".join((str(observed), \"in\", str(tp))) ))\n",
    "\n",
    "    # Test that in absence of VAV1, there is no actin contraction/migration\n",
    "    def test_sk_tp_activ_novav1_nomigration(self):\n",
    "        nopip3_tp = [tp for tp in self.activ_tp if tp[\"VAV1\"]==0]\n",
    "        for tp in nopip3_tp:\n",
    "            observed = tp[\"Actin_contraction_migration\"]\n",
    "            expected = 0\n",
    "            self.assertEqual(observed, expected, \n",
    "                             self.addcontext(\"\".join((\"If {VAV1:0} then Actin_contraction_migration:\", str(expected))),\n",
    "                                     \" \".join((str(observed), \"in\", str(tp))) ))\n",
    "\n",
    "\n",
    "# Add tests to the current suite\n",
    "sk_suite.addTests(unittest.makeSuite(TestCytoskeletonActivated, prefix=\"test_\"))\n",
    "# Run these tests independently\n",
    "if debug_test_cases : runner.run(unittest.makeSuite(TestCytoskeletonActivated, prefix=\"test_\"))"
   ]
  },
  {
   "cell_type": "markdown",
   "metadata": {},
   "source": [
    "<a name=\"skrunall\"></a>\n",
    "## Run all module tests\n",
    "[(Back to top.)](#toc)"
   ]
  },
  {
   "cell_type": "code",
   "execution_count": 24,
   "metadata": {
    "scrolled": false
   },
   "outputs": [
    {
     "name": "stderr",
     "output_type": "stream",
     "text": [
      "test_sk_tp_nopip_nomigration (__main__.TestCytoskeletonNonBio) ... ok\n",
      "test_sk_tp_nopip_nopolymerisation (__main__.TestCytoskeletonNonBio) ... ok\n",
      "test_sk_tp_rest_nomigration (__main__.TestCytoskeletonResting) ... ok\n",
      "test_sk_tp_rest_nopolymerisation (__main__.TestCytoskeletonResting) ... ok\n",
      "test_sk_tp_rest_pip2novav1ornolcp2 (__main__.TestCytoskeletonResting) ... ok\n",
      "test_sk_tp_activ_novav1_nomigration (__main__.TestCytoskeletonActivated) ... ok\n",
      "test_sk_tp_activ_pip2vav1lcp2 (__main__.TestCytoskeletonActivated) ... ok\n",
      "test_sk_tp_activ_pip3vav1abl1 (__main__.TestCytoskeletonActivated) ... ok\n",
      "test_sk_tp_activ_was (__main__.TestCytoskeletonActivated) ... ok\n",
      "test_sk_tp_activ_wave (__main__.TestCytoskeletonActivated) ... ok\n",
      "test_sk_tp_nopip2_nowas (__main__.TestCytoskeletonActivated) ... ok\n",
      "test_sk_tp_nopip3_nowave (__main__.TestCytoskeletonActivated) ... ok\n",
      "\n",
      "----------------------------------------------------------------------\n",
      "Ran 12 tests in 2.234s\n",
      "\n",
      "OK\n"
     ]
    }
   ],
   "source": [
    "# Add tests to the global suite\n",
    "all_suite.addTests(sk_suite)\n",
    "# Run these tests independently\n",
    "if debug_test_suites : runner.run(sk_suite)"
   ]
  },
  {
   "cell_type": "markdown",
   "metadata": {},
   "source": [
    "<a name=\"aneractdiff\"></a>\n",
    "# Anergy/activation/differentiation module\n",
    "[(Back to top.)](#toc)\n",
    "\n",
    "<a name=\"aadpres\"></a>\n",
    "## Presentation\n",
    "[(Back to top.)](#toc)\n",
    "\n",
    "The model adresses two main events related to T cell stimulation. First, after the TCR receives a sufficient stimulation, it shifts from Quiescence to Proliferation. Second, an insufficient stimulation doesn't lead to IL2 production but to a different program called Anergy, where cells enter an iresponsive state ([PMID:15928679](https://www.ncbi.nlm.nih.gov/pubmed/15928679)).\n",
    "\n",
    "* [x] Proliferation and Quiescence cannot be activated together.\n",
    "* [x] Quiescence and IL2 cannot be activated together."
   ]
  },
  {
   "cell_type": "markdown",
   "metadata": {},
   "source": [
    "<a name=\"aadcomp\"></a>\n",
    "## Core components and extracted sub-model\n",
    "[(Back to top.)](#toc)"
   ]
  },
  {
   "cell_type": "code",
   "execution_count": 25,
   "metadata": {
    "scrolled": false
   },
   "outputs": [],
   "source": [
    "# Test suite for this sub-model's related tests.\n",
    "aad_suite = unittest.TestSuite()\n",
    "\n",
    "class ActivationModuleTestCase(unittest.TestCase):\n",
    "    \"\"\"Sub-model to be tested.\"\"\"\n",
    "    model = biolqm.submodel(lqm, \n",
    "                            \" \".join((\"Anergy Differentiation Treg IL2 NFAT_nuc DGKA FOXP3 CREBBP CTLA4_out PDCD1_out\",\n",
    "                                      \"GSK3B FOXO1 TP53 CDKN1A CDKN1B CTNNB1 MYC PCNA CCND1 Quiescence Proliferation\"\n",
    "    )))\n"
   ]
  },
  {
   "cell_type": "code",
   "execution_count": 26,
   "metadata": {},
   "outputs": [
    {
     "data": {
      "text/plain": [
       "\"['f_14_3_3', 'f_MDM2', 'f_Axin1', 'f_SMAD3', 'AKT1', 'FOXO1', 'GSK3B', 'TP53', 'CDKN1A', 'CDKN1B', 'Quiescence', 'PCNA', 'CTNNB1', 'CCND1', 'MYC', 'Proliferation', 'NF_KB', 'CREBBP', 'FOXP3', 'CTLA4_out', 'Treg', 'RPS6KA1', 'Calcineurin', 'NFAT_nuc', 'PDCD1_out', 'DGKA', 'Anergy', 'FOS', 'JUN', 'p38', 'RPS6KA5', 'CREB1', 'IL2', 'Differentiation']\""
      ]
     },
     "execution_count": 26,
     "metadata": {},
     "output_type": "execute_result"
    }
   ],
   "source": [
    "str([component.toString() for component in ActivationModuleTestCase.model.getComponents()])"
   ]
  },
  {
   "cell_type": "code",
   "execution_count": 27,
   "metadata": {
    "scrolled": false
   },
   "outputs": [
    {
     "data": {
      "text/plain": [
       "AKT1 <- AKT1\n",
       "Anergy <- NFAT_nuc&DGKA&!FOS&!JUN\n",
       "CCND1 <- CTNNB1\n",
       "CDKN1A <- !AKT1&TP53\n",
       "CDKN1B <- f_SMAD3&!AKT1&FOXO1&!RPS6KA1\n",
       "CREB1 <- CREB1\n",
       "CREBBP <- !NF_KB\n",
       "CTLA4_out <- FOXP3\n",
       "CTNNB1 <- !f_Axin1&!GSK3B\n",
       "Calcineurin <- Calcineurin\n",
       "DGKA <- FOXO1&NFAT_nuc\n",
       "Differentiation <- IL2\n",
       "FOS <- FOS\n",
       "FOXO1 <- !f_14_3_3&!AKT1\n",
       "FOXP3 <- f_SMAD3&FOXO1&NF_KB&CREBBP&NFAT_nuc&CREB1\n",
       "GSK3B <- !AKT1&!RPS6KA1\n",
       "IL2 <- NF_KB&NFAT_nuc&FOS&JUN\n",
       "JUN <- JUN\n",
       "MYC <- CTNNB1&RPS6KA5\n",
       "NFAT_nuc <- !GSK3B&Calcineurin\n",
       "NF_KB <- NF_KB\n",
       "PCNA <- !CDKN1A\n",
       "PDCD1_out <- NFAT_nuc\n",
       "Proliferation <- PCNA&CCND1&MYC&IL2\n",
       "Quiescence <- (FOXO1&!CDKN1A&CDKN1B)|(FOXO1&CDKN1A)\n",
       "RPS6KA1 <- RPS6KA1\n",
       "RPS6KA5 <- RPS6KA5\n",
       "TP53 <- !f_MDM2|(f_MDM2&p38)\n",
       "Treg <- FOXP3\n",
       "f_14_3_3 <- 0\n",
       "f_Axin1 <- 0\n",
       "f_MDM2 <- 0\n",
       "f_SMAD3 <- 0\n",
       "p38 <- p38"
      ]
     },
     "execution_count": 27,
     "metadata": {},
     "output_type": "execute_result"
    }
   ],
   "source": [
    "biolqm.to_minibn(ActivationModuleTestCase.model)"
   ]
  },
  {
   "cell_type": "markdown",
   "metadata": {},
   "source": [
    "<a name=\"aadtests\"></a>\n",
    "## Test cases\n",
    "[(Back to top.)](#toc)"
   ]
  },
  {
   "cell_type": "code",
   "execution_count": 28,
   "metadata": {},
   "outputs": [
    {
     "name": "stderr",
     "output_type": "stream",
     "text": [
      "test_aad_tp_anergy_il2 (__main__.TestActivationModule) ... ok\n",
      "test_aad_tp_quiescence_prolif (__main__.TestActivationModule) ... ok\n",
      "\n",
      "----------------------------------------------------------------------\n",
      "Ran 2 tests in 11.738s\n",
      "\n",
      "OK\n"
     ]
    }
   ],
   "source": [
    "class TestActivationModule(ActivationModuleTestCase):\n",
    "    \n",
    "    input_vals = {}\n",
    "    core_vals = {}\n",
    "    pattern = None\n",
    "    all_tp = None\n",
    "    \n",
    "    @classmethod\n",
    "    def setUpClass(cls):\n",
    "        cls.pattern = dash_pattern(cls.model, {**cls.input_vals, **cls.core_vals})\n",
    "        cls.all_tp = [tp for tp in biolqm.trapspaces(cls.model)]\n",
    "    \n",
    "    def addcontext(self, message, observed):\n",
    "        return(\" \".join((\"Pattern:\", self.pattern, \"\\n\",\n",
    "                       \"Context:\", str(self.input_vals), str(self.core_vals), \"\\n\",\n",
    "                       \"Tested:\", message, \"\\n\", \n",
    "                       \"Observed:\", str(observed), \".\\n\")))\n",
    "\n",
    "    # Test that Proliferation and Quiescence cannot be activated together\n",
    "    def test_aad_tp_quiescence_prolif(self):\n",
    "        for tp in self.all_tp:\n",
    "            observed = tp[\"Quiescence\"]\n",
    "            observed2 = tp[\"Proliferation\"]\n",
    "            not_expected = 1\n",
    "            self.assertFalse((observed==observed2 and observed==not_expected), \n",
    "                             self.addcontext(\"\".join((\"Quiescence:\", str(observed), \n",
    "                                                      \" and Proliferation:\", str(observed2),\n",
    "                                                      \" should be different \")),\n",
    "                                             \" \".join((str(observed!=observed2), \"in\", str(tp))) ))\n",
    "\n",
    "    # Test that if Anergy is activated, IL2 is not\n",
    "    def test_aad_tp_anergy_il2(self):\n",
    "        for tp in self.all_tp:\n",
    "            observed = tp[\"Anergy\"]\n",
    "            observed2 = tp[\"IL2\"]\n",
    "            not_expected = 1\n",
    "            self.assertFalse((observed==observed2 and observed==not_expected), \n",
    "                             self.addcontext(\"\".join((\"Anergy:\", str(observed), \n",
    "                                                      \" and IL2:\", str(observed2),\n",
    "                                                      \" should be different \")),\n",
    "                                             \" \".join((str(observed!=observed2), \"in\", str(tp))) ))\n",
    "\n",
    "            \n",
    "# Add tests to the current suite\n",
    "aad_suite.addTests(unittest.makeSuite(TestActivationModule, prefix=\"test_\"))\n",
    "# Run these tests independently\n",
    "if debug_test_cases : runner.run(unittest.makeSuite(TestActivationModule, prefix=\"test_\"))"
   ]
  },
  {
   "cell_type": "markdown",
   "metadata": {},
   "source": [
    "<a name=\"aadrunall\"></a>\n",
    "## Run all module tests\n",
    "[(Back to top.)](#toc)"
   ]
  },
  {
   "cell_type": "code",
   "execution_count": 29,
   "metadata": {
    "scrolled": false
   },
   "outputs": [
    {
     "name": "stderr",
     "output_type": "stream",
     "text": [
      "test_aad_tp_anergy_il2 (__main__.TestActivationModule) ... ok\n",
      "test_aad_tp_quiescence_prolif (__main__.TestActivationModule) ... ok\n",
      "\n",
      "----------------------------------------------------------------------\n",
      "Ran 2 tests in 13.485s\n",
      "\n",
      "OK\n"
     ]
    }
   ],
   "source": [
    "# Add tests to the global suite\n",
    "all_suite.addTests(aad_suite)\n",
    "# Run these tests independently\n",
    "if debug_test_suites : runner.run(aad_suite)"
   ]
  },
  {
   "cell_type": "markdown",
   "metadata": {},
   "source": [
    "<a name=\"runall\"></a>\n",
    "# Run all tests\n"
   ]
  },
  {
   "cell_type": "code",
   "execution_count": 33,
   "metadata": {
    "scrolled": true
   },
   "outputs": [
    {
     "name": "stderr",
     "output_type": "stream",
     "text": [
      "test_calc_tp_rest_ER1_SERCA0 (__main__.TestCalciumQuiescent) ... ok\n",
      "test_calc_tp_rest_ER1_cyt1 (__main__.TestCalciumQuiescent) ... ok\n",
      "test_calc_tp_rest_ER1_present (__main__.TestCalciumQuiescent) ... ok\n",
      "test_calc_tp_rest_nbtp (__main__.TestCalciumQuiescent) ... ok\n",
      "test_calc_tp_rest_noCalcium (__main__.TestCalciumQuiescent) ... ok\n",
      "test_calc_tp_act_allinput_Cyt2 (__main__.TestCalciumActivation) ... ok\n",
      "test_calc_tp_act_allinput_ER0 (__main__.TestCalciumActivation) ... ok\n",
      "test_calc_tp_act_allinput_Mit1 (__main__.TestCalciumActivation) ... ok\n",
      "test_calc_tp_act_allinput_SERCA1 (__main__.TestCalciumActivation) ... ok\n",
      "test_calc_tp_act_allinput_tpalone (__main__.TestCalciumActivation) ... ok\n",
      "test_calc_tp_act_nomitochondria (__main__.TestCalciumActivation) ... ok\n",
      "test_calc_tp_act_tppresent (__main__.TestCalciumActivation) ... ok\n",
      "test_lck_tp_rest_lcknotactive (__main__.TestLCKResting) ... ok\n",
      "test_lck_tp_rest_tcrnotp (__main__.TestLCKResting) ... ok\n",
      "test_lck_tp_antigenaghigh_ptcr (__main__.TestLCKNonProd) ... ok\n",
      "test_lck_tp_antigenaglow_ptcr (__main__.TestLCKNonProd) ... ok\n",
      "test_lck_tp_antigenantag_ptcr (__main__.TestLCKNonProd) ... ok\n",
      "test_lck_tp_antigenag_ptcr_costim_nonegcostim (__main__.TestLCKProd) ... ok\n",
      "test_lck_tp_antigenag_ptcr_negcostim_PTPN11 (__main__.TestLCKProd) ... ok\n",
      "test_lck_tp_antigenag_ptcr_negcostim_PTPN6_feedback (__main__.TestLCKProd) ... ok\n",
      "test_lck_tp_antigenag_ptcr_negcostim_PTPN6_nofeedback (__main__.TestLCKProd) ... ok\n",
      "test_lck_tp_antigenag_ptcr_nocostim_nofeedback (__main__.TestLCKProd) ... ok\n",
      "test_sk_tp_nopip_nomigration (__main__.TestCytoskeletonNonBio) ... ok\n",
      "test_sk_tp_nopip_nopolymerisation (__main__.TestCytoskeletonNonBio) ... ok\n",
      "test_sk_tp_rest_nomigration (__main__.TestCytoskeletonResting) ... ok\n",
      "test_sk_tp_rest_nopolymerisation (__main__.TestCytoskeletonResting) ... ok\n",
      "test_sk_tp_rest_pip2novav1ornolcp2 (__main__.TestCytoskeletonResting) ... ok\n",
      "test_sk_tp_activ_novav1_nomigration (__main__.TestCytoskeletonActivated) ... ok\n",
      "test_sk_tp_activ_pip2vav1lcp2 (__main__.TestCytoskeletonActivated) ... ok\n",
      "test_sk_tp_activ_pip3vav1abl1 (__main__.TestCytoskeletonActivated) ... ok\n",
      "test_sk_tp_activ_was (__main__.TestCytoskeletonActivated) ... ok\n",
      "test_sk_tp_activ_wave (__main__.TestCytoskeletonActivated) ... ok\n",
      "test_sk_tp_nopip2_nowas (__main__.TestCytoskeletonActivated) ... ok\n",
      "test_sk_tp_nopip3_nowave (__main__.TestCytoskeletonActivated) ... ok\n",
      "test_aad_tp_anergy_il2 (__main__.TestActivationModule) ... ok\n",
      "test_aad_tp_quiescence_prolif (__main__.TestActivationModule) ... ok\n",
      "\n",
      "----------------------------------------------------------------------\n",
      "Ran 36 tests in 87.404s\n",
      "\n",
      "OK\n"
     ]
    }
   ],
   "source": [
    "# Run global suite\n",
    "if run_all: result = runner.run(all_suite)"
   ]
  }
 ],
 "metadata": {
  "kernelspec": {
   "display_name": "Python 3",
   "language": "python",
   "name": "python3"
  },
  "language_info": {
   "codemirror_mode": {
    "name": "ipython",
    "version": 3
   },
   "file_extension": ".py",
   "mimetype": "text/x-python",
   "name": "python",
   "nbconvert_exporter": "python",
   "pygments_lexer": "ipython3",
   "version": "3.7.3"
  }
 },
 "nbformat": 4,
 "nbformat_minor": 2
}
